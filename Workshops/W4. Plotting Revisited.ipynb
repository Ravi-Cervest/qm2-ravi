{
 "cells": [
  {
   "cell_type": "markdown",
   "metadata": {},
   "source": [
    "## Quantitative Methods 2:  Data Science and Visualisation\n",
    "## Workshop 4: Plotting revisited\n",
    "We've created some basic plots over the last couple of weeks, but it would be nice to control the quality, appearance, and information presented in our plots. We can do that by using optional arguments and styles, but also by using new libraries that open up new visualisation techniques and ways of sharing our outputs\n",
    "\n",
    "### Aims:\n",
    "\n",
    "- Experiment with new forms and tools\n",
    "- Understand how to change the appearance of standard plots\n",
    "- Work with different libraries\n",
    "- Create web-enabled graphs\n",
    "- Improve the quality of our plots"
   ]
  },
  {
   "cell_type": "markdown",
   "metadata": {},
   "source": [
    "## Downloading the Data\n",
    "Let's grab the data we will need this week from our course website and save it into our data folder. If you've not already created a data folder then do so using the following command. \n",
    "\n",
    "Don't worry if it generates an error, that means you've already got a data folder."
   ]
  },
  {
   "cell_type": "code",
   "execution_count": 1,
   "metadata": {},
   "outputs": [
    {
     "name": "stdout",
     "output_type": "stream",
     "text": [
      "mkdir: cannot create directory ‘data’: File exists\r\n"
     ]
    }
   ],
   "source": [
    "!mkdir data"
   ]
  },
  {
   "cell_type": "code",
   "execution_count": 2,
   "metadata": {},
   "outputs": [
    {
     "name": "stdout",
     "output_type": "stream",
     "text": [
      "mkdir: cannot create directory ‘data/wk4’: File exists\n",
      "  % Total    % Received % Xferd  Average Speed   Time    Time     Time  Current\n",
      "                                 Dload  Upload   Total   Spent    Left  Speed\n",
      "100 10127  100 10127    0     0  93768      0 --:--:-- --:--:-- --:--:-- 93768\n",
      "  % Total    % Received % Xferd  Average Speed   Time    Time     Time  Current\n",
      "                                 Dload  Upload   Total   Spent    Left  Speed\n",
      "100  354k  100  354k    0     0  3985k      0 --:--:-- --:--:-- --:--:-- 3985k\n",
      "  % Total    % Received % Xferd  Average Speed   Time    Time     Time  Current\n",
      "                                 Dload  Upload   Total   Spent    Left  Speed\n",
      "100 6322k  100 6322k    0     0  12.8M      0 --:--:-- --:--:-- --:--:-- 12.8M\n",
      "  % Total    % Received % Xferd  Average Speed   Time    Time     Time  Current\n",
      "                                 Dload  Upload   Total   Spent    Left  Speed\n",
      "100  9729  100  9729    0     0   101k      0 --:--:-- --:--:-- --:--:--  101k\n"
     ]
    }
   ],
   "source": [
    "!mkdir data/wk4\n",
    "!curl https://s3.eu-west-2.amazonaws.com/qm2/wk4/UN_Life_2012.csv -o ./data/wk4/UN_Life_2012.csv\n",
    "!curl https://s3.eu-west-2.amazonaws.com/qm2/wk4/UN_Life_all.csv -o ./data/wk4/UN_Life_all.csv\n",
    "!curl https://s3.eu-west-2.amazonaws.com/qm2/wk4/UN_Cities_all.csv -o ./data/wk4/UN_Cities_all.csv\n",
    "!curl https://s3.eu-west-2.amazonaws.com/qm2/wk4/tips.csv -o ./data/wk4/tips.csv"
   ]
  },
  {
   "cell_type": "markdown",
   "metadata": {},
   "source": [
    "`------------------`     "
   ]
  },
  {
   "cell_type": "code",
   "execution_count": 3,
   "metadata": {},
   "outputs": [],
   "source": [
    "import matplotlib.pyplot as plt\n",
    "import pandas as pd\n",
    "import pylab\n",
    "%matplotlib inline\n",
    "pylab.rcParams['figure.figsize'] = (10., 8.)"
   ]
  },
  {
   "cell_type": "markdown",
   "metadata": {},
   "source": [
    "## Life on Bars\n",
    "\n",
    "We're going to work with some data we looked at last week, on life expectancy, compiled by the UN. Here is the source:\n",
    "\n",
    "http://data.un.org/Data.aspx?d=WDI&f=Indicator_Code%3ASP.DYN.LE00.IN\n",
    "\n",
    "I've filtered and cleaned it, and focussed on just 2012 data:"
   ]
  },
  {
   "cell_type": "code",
   "execution_count": 4,
   "metadata": {},
   "outputs": [
    {
     "data": {
      "text/html": [
       "<div>\n",
       "<style scoped>\n",
       "    .dataframe tbody tr th:only-of-type {\n",
       "        vertical-align: middle;\n",
       "    }\n",
       "\n",
       "    .dataframe tbody tr th {\n",
       "        vertical-align: top;\n",
       "    }\n",
       "\n",
       "    .dataframe thead th {\n",
       "        text-align: right;\n",
       "    }\n",
       "</style>\n",
       "<table border=\"1\" class=\"dataframe\">\n",
       "  <thead>\n",
       "    <tr style=\"text-align: right;\">\n",
       "      <th></th>\n",
       "      <th>Country or Area</th>\n",
       "      <th>Year</th>\n",
       "      <th>Value</th>\n",
       "      <th>Value Footnotes</th>\n",
       "    </tr>\n",
       "  </thead>\n",
       "  <tbody>\n",
       "    <tr>\n",
       "      <th>0</th>\n",
       "      <td>Afghanistan</td>\n",
       "      <td>2012</td>\n",
       "      <td>60.509122</td>\n",
       "      <td>NaN</td>\n",
       "    </tr>\n",
       "    <tr>\n",
       "      <th>1</th>\n",
       "      <td>Albania</td>\n",
       "      <td>2012</td>\n",
       "      <td>77.350463</td>\n",
       "      <td>NaN</td>\n",
       "    </tr>\n",
       "    <tr>\n",
       "      <th>2</th>\n",
       "      <td>Algeria</td>\n",
       "      <td>2012</td>\n",
       "      <td>70.882171</td>\n",
       "      <td>NaN</td>\n",
       "    </tr>\n",
       "    <tr>\n",
       "      <th>3</th>\n",
       "      <td>Angola</td>\n",
       "      <td>2012</td>\n",
       "      <td>51.464000</td>\n",
       "      <td>NaN</td>\n",
       "    </tr>\n",
       "    <tr>\n",
       "      <th>4</th>\n",
       "      <td>Antigua and Barbuda</td>\n",
       "      <td>2012</td>\n",
       "      <td>75.665317</td>\n",
       "      <td>NaN</td>\n",
       "    </tr>\n",
       "    <tr>\n",
       "      <th>5</th>\n",
       "      <td>Arab World</td>\n",
       "      <td>2012</td>\n",
       "      <td>69.949702</td>\n",
       "      <td>NaN</td>\n",
       "    </tr>\n",
       "    <tr>\n",
       "      <th>6</th>\n",
       "      <td>Argentina</td>\n",
       "      <td>2012</td>\n",
       "      <td>76.012683</td>\n",
       "      <td>NaN</td>\n",
       "    </tr>\n",
       "    <tr>\n",
       "      <th>7</th>\n",
       "      <td>Armenia</td>\n",
       "      <td>2012</td>\n",
       "      <td>74.437220</td>\n",
       "      <td>NaN</td>\n",
       "    </tr>\n",
       "    <tr>\n",
       "      <th>8</th>\n",
       "      <td>Aruba</td>\n",
       "      <td>2012</td>\n",
       "      <td>75.206756</td>\n",
       "      <td>NaN</td>\n",
       "    </tr>\n",
       "    <tr>\n",
       "      <th>9</th>\n",
       "      <td>Australia</td>\n",
       "      <td>2012</td>\n",
       "      <td>82.095122</td>\n",
       "      <td>NaN</td>\n",
       "    </tr>\n",
       "    <tr>\n",
       "      <th>10</th>\n",
       "      <td>Austria</td>\n",
       "      <td>2012</td>\n",
       "      <td>80.936585</td>\n",
       "      <td>NaN</td>\n",
       "    </tr>\n",
       "    <tr>\n",
       "      <th>11</th>\n",
       "      <td>Azerbaijan</td>\n",
       "      <td>2012</td>\n",
       "      <td>70.624951</td>\n",
       "      <td>NaN</td>\n",
       "    </tr>\n",
       "    <tr>\n",
       "      <th>12</th>\n",
       "      <td>Bahamas, The</td>\n",
       "      <td>2012</td>\n",
       "      <td>74.914463</td>\n",
       "      <td>NaN</td>\n",
       "    </tr>\n",
       "    <tr>\n",
       "      <th>13</th>\n",
       "      <td>Bahrain</td>\n",
       "      <td>2012</td>\n",
       "      <td>76.536195</td>\n",
       "      <td>NaN</td>\n",
       "    </tr>\n",
       "    <tr>\n",
       "      <th>14</th>\n",
       "      <td>Bangladesh</td>\n",
       "      <td>2012</td>\n",
       "      <td>70.294854</td>\n",
       "      <td>NaN</td>\n",
       "    </tr>\n",
       "    <tr>\n",
       "      <th>15</th>\n",
       "      <td>Barbados</td>\n",
       "      <td>2012</td>\n",
       "      <td>75.132024</td>\n",
       "      <td>NaN</td>\n",
       "    </tr>\n",
       "    <tr>\n",
       "      <th>16</th>\n",
       "      <td>Belarus</td>\n",
       "      <td>2012</td>\n",
       "      <td>72.063415</td>\n",
       "      <td>NaN</td>\n",
       "    </tr>\n",
       "    <tr>\n",
       "      <th>17</th>\n",
       "      <td>Belgium</td>\n",
       "      <td>2012</td>\n",
       "      <td>80.385366</td>\n",
       "      <td>NaN</td>\n",
       "    </tr>\n",
       "    <tr>\n",
       "      <th>18</th>\n",
       "      <td>Belize</td>\n",
       "      <td>2012</td>\n",
       "      <td>73.699146</td>\n",
       "      <td>NaN</td>\n",
       "    </tr>\n",
       "    <tr>\n",
       "      <th>19</th>\n",
       "      <td>Benin</td>\n",
       "      <td>2012</td>\n",
       "      <td>59.119488</td>\n",
       "      <td>NaN</td>\n",
       "    </tr>\n",
       "    <tr>\n",
       "      <th>20</th>\n",
       "      <td>Bermuda</td>\n",
       "      <td>2012</td>\n",
       "      <td>79.288537</td>\n",
       "      <td>NaN</td>\n",
       "    </tr>\n",
       "    <tr>\n",
       "      <th>21</th>\n",
       "      <td>Bhutan</td>\n",
       "      <td>2012</td>\n",
       "      <td>67.889268</td>\n",
       "      <td>NaN</td>\n",
       "    </tr>\n",
       "    <tr>\n",
       "      <th>22</th>\n",
       "      <td>Bolivia</td>\n",
       "      <td>2012</td>\n",
       "      <td>66.926634</td>\n",
       "      <td>NaN</td>\n",
       "    </tr>\n",
       "    <tr>\n",
       "      <th>23</th>\n",
       "      <td>Bosnia and Herzegovina</td>\n",
       "      <td>2012</td>\n",
       "      <td>76.121146</td>\n",
       "      <td>NaN</td>\n",
       "    </tr>\n",
       "    <tr>\n",
       "      <th>24</th>\n",
       "      <td>Botswana</td>\n",
       "      <td>2012</td>\n",
       "      <td>46.990707</td>\n",
       "      <td>NaN</td>\n",
       "    </tr>\n",
       "    <tr>\n",
       "      <th>25</th>\n",
       "      <td>Brazil</td>\n",
       "      <td>2012</td>\n",
       "      <td>73.617878</td>\n",
       "      <td>NaN</td>\n",
       "    </tr>\n",
       "    <tr>\n",
       "      <th>26</th>\n",
       "      <td>Brunei Darussalam</td>\n",
       "      <td>2012</td>\n",
       "      <td>78.373463</td>\n",
       "      <td>NaN</td>\n",
       "    </tr>\n",
       "    <tr>\n",
       "      <th>27</th>\n",
       "      <td>Bulgaria</td>\n",
       "      <td>2012</td>\n",
       "      <td>74.314634</td>\n",
       "      <td>NaN</td>\n",
       "    </tr>\n",
       "    <tr>\n",
       "      <th>28</th>\n",
       "      <td>Burkina Faso</td>\n",
       "      <td>2012</td>\n",
       "      <td>55.862024</td>\n",
       "      <td>NaN</td>\n",
       "    </tr>\n",
       "    <tr>\n",
       "      <th>29</th>\n",
       "      <td>Burundi</td>\n",
       "      <td>2012</td>\n",
       "      <td>53.628756</td>\n",
       "      <td>NaN</td>\n",
       "    </tr>\n",
       "    <tr>\n",
       "      <th>...</th>\n",
       "      <td>...</td>\n",
       "      <td>...</td>\n",
       "      <td>...</td>\n",
       "      <td>...</td>\n",
       "    </tr>\n",
       "    <tr>\n",
       "      <th>199</th>\n",
       "      <td>Sweden</td>\n",
       "      <td>2012</td>\n",
       "      <td>81.704878</td>\n",
       "      <td>NaN</td>\n",
       "    </tr>\n",
       "    <tr>\n",
       "      <th>200</th>\n",
       "      <td>Switzerland</td>\n",
       "      <td>2012</td>\n",
       "      <td>82.697561</td>\n",
       "      <td>NaN</td>\n",
       "    </tr>\n",
       "    <tr>\n",
       "      <th>201</th>\n",
       "      <td>Syrian Arab Republic</td>\n",
       "      <td>2012</td>\n",
       "      <td>74.710707</td>\n",
       "      <td>NaN</td>\n",
       "    </tr>\n",
       "    <tr>\n",
       "      <th>202</th>\n",
       "      <td>Tajikistan</td>\n",
       "      <td>2012</td>\n",
       "      <td>67.257171</td>\n",
       "      <td>NaN</td>\n",
       "    </tr>\n",
       "    <tr>\n",
       "      <th>203</th>\n",
       "      <td>Tanzania</td>\n",
       "      <td>2012</td>\n",
       "      <td>60.846439</td>\n",
       "      <td>NaN</td>\n",
       "    </tr>\n",
       "    <tr>\n",
       "      <th>204</th>\n",
       "      <td>Thailand</td>\n",
       "      <td>2012</td>\n",
       "      <td>74.187976</td>\n",
       "      <td>NaN</td>\n",
       "    </tr>\n",
       "    <tr>\n",
       "      <th>205</th>\n",
       "      <td>Timor-Leste</td>\n",
       "      <td>2012</td>\n",
       "      <td>67.020585</td>\n",
       "      <td>NaN</td>\n",
       "    </tr>\n",
       "    <tr>\n",
       "      <th>206</th>\n",
       "      <td>Togo</td>\n",
       "      <td>2012</td>\n",
       "      <td>56.150341</td>\n",
       "      <td>NaN</td>\n",
       "    </tr>\n",
       "    <tr>\n",
       "      <th>207</th>\n",
       "      <td>Tonga</td>\n",
       "      <td>2012</td>\n",
       "      <td>72.489000</td>\n",
       "      <td>NaN</td>\n",
       "    </tr>\n",
       "    <tr>\n",
       "      <th>208</th>\n",
       "      <td>Trinidad and Tobago</td>\n",
       "      <td>2012</td>\n",
       "      <td>69.817146</td>\n",
       "      <td>NaN</td>\n",
       "    </tr>\n",
       "    <tr>\n",
       "      <th>209</th>\n",
       "      <td>Tunisia</td>\n",
       "      <td>2012</td>\n",
       "      <td>75.100000</td>\n",
       "      <td>NaN</td>\n",
       "    </tr>\n",
       "    <tr>\n",
       "      <th>210</th>\n",
       "      <td>Turkey</td>\n",
       "      <td>2012</td>\n",
       "      <td>74.862439</td>\n",
       "      <td>NaN</td>\n",
       "    </tr>\n",
       "    <tr>\n",
       "      <th>211</th>\n",
       "      <td>Turkmenistan</td>\n",
       "      <td>2012</td>\n",
       "      <td>65.313585</td>\n",
       "      <td>NaN</td>\n",
       "    </tr>\n",
       "    <tr>\n",
       "      <th>212</th>\n",
       "      <td>Uganda</td>\n",
       "      <td>2012</td>\n",
       "      <td>58.647976</td>\n",
       "      <td>NaN</td>\n",
       "    </tr>\n",
       "    <tr>\n",
       "      <th>213</th>\n",
       "      <td>Ukraine</td>\n",
       "      <td>2012</td>\n",
       "      <td>70.944146</td>\n",
       "      <td>NaN</td>\n",
       "    </tr>\n",
       "    <tr>\n",
       "      <th>214</th>\n",
       "      <td>United Arab Emirates</td>\n",
       "      <td>2012</td>\n",
       "      <td>76.957878</td>\n",
       "      <td>NaN</td>\n",
       "    </tr>\n",
       "    <tr>\n",
       "      <th>215</th>\n",
       "      <td>United Kingdom</td>\n",
       "      <td>2012</td>\n",
       "      <td>81.500000</td>\n",
       "      <td>NaN</td>\n",
       "    </tr>\n",
       "    <tr>\n",
       "      <th>216</th>\n",
       "      <td>United States</td>\n",
       "      <td>2012</td>\n",
       "      <td>78.741463</td>\n",
       "      <td>NaN</td>\n",
       "    </tr>\n",
       "    <tr>\n",
       "      <th>217</th>\n",
       "      <td>Upper middle income</td>\n",
       "      <td>2012</td>\n",
       "      <td>74.157979</td>\n",
       "      <td>NaN</td>\n",
       "    </tr>\n",
       "    <tr>\n",
       "      <th>218</th>\n",
       "      <td>Uruguay</td>\n",
       "      <td>2012</td>\n",
       "      <td>76.907829</td>\n",
       "      <td>NaN</td>\n",
       "    </tr>\n",
       "    <tr>\n",
       "      <th>219</th>\n",
       "      <td>Uzbekistan</td>\n",
       "      <td>2012</td>\n",
       "      <td>68.104000</td>\n",
       "      <td>NaN</td>\n",
       "    </tr>\n",
       "    <tr>\n",
       "      <th>220</th>\n",
       "      <td>Vanuatu</td>\n",
       "      <td>2012</td>\n",
       "      <td>71.410683</td>\n",
       "      <td>NaN</td>\n",
       "    </tr>\n",
       "    <tr>\n",
       "      <th>221</th>\n",
       "      <td>Venezuela, RB</td>\n",
       "      <td>2012</td>\n",
       "      <td>74.487512</td>\n",
       "      <td>NaN</td>\n",
       "    </tr>\n",
       "    <tr>\n",
       "      <th>222</th>\n",
       "      <td>Vietnam</td>\n",
       "      <td>2012</td>\n",
       "      <td>75.606683</td>\n",
       "      <td>NaN</td>\n",
       "    </tr>\n",
       "    <tr>\n",
       "      <th>223</th>\n",
       "      <td>Virgin Islands (U.S.)</td>\n",
       "      <td>2012</td>\n",
       "      <td>79.473171</td>\n",
       "      <td>NaN</td>\n",
       "    </tr>\n",
       "    <tr>\n",
       "      <th>224</th>\n",
       "      <td>West Bank and Gaza</td>\n",
       "      <td>2012</td>\n",
       "      <td>73.017878</td>\n",
       "      <td>NaN</td>\n",
       "    </tr>\n",
       "    <tr>\n",
       "      <th>225</th>\n",
       "      <td>World</td>\n",
       "      <td>2012</td>\n",
       "      <td>70.779243</td>\n",
       "      <td>NaN</td>\n",
       "    </tr>\n",
       "    <tr>\n",
       "      <th>226</th>\n",
       "      <td>Yemen, Rep.</td>\n",
       "      <td>2012</td>\n",
       "      <td>62.905780</td>\n",
       "      <td>NaN</td>\n",
       "    </tr>\n",
       "    <tr>\n",
       "      <th>227</th>\n",
       "      <td>Zambia</td>\n",
       "      <td>2012</td>\n",
       "      <td>57.022585</td>\n",
       "      <td>NaN</td>\n",
       "    </tr>\n",
       "    <tr>\n",
       "      <th>228</th>\n",
       "      <td>Zimbabwe</td>\n",
       "      <td>2012</td>\n",
       "      <td>58.045976</td>\n",
       "      <td>NaN</td>\n",
       "    </tr>\n",
       "  </tbody>\n",
       "</table>\n",
       "<p>229 rows × 4 columns</p>\n",
       "</div>"
      ],
      "text/plain": [
       "            Country or Area  Year      Value  Value Footnotes\n",
       "0               Afghanistan  2012  60.509122              NaN\n",
       "1                   Albania  2012  77.350463              NaN\n",
       "2                   Algeria  2012  70.882171              NaN\n",
       "3                    Angola  2012  51.464000              NaN\n",
       "4       Antigua and Barbuda  2012  75.665317              NaN\n",
       "5                Arab World  2012  69.949702              NaN\n",
       "6                 Argentina  2012  76.012683              NaN\n",
       "7                   Armenia  2012  74.437220              NaN\n",
       "8                     Aruba  2012  75.206756              NaN\n",
       "9                 Australia  2012  82.095122              NaN\n",
       "10                  Austria  2012  80.936585              NaN\n",
       "11               Azerbaijan  2012  70.624951              NaN\n",
       "12             Bahamas, The  2012  74.914463              NaN\n",
       "13                  Bahrain  2012  76.536195              NaN\n",
       "14               Bangladesh  2012  70.294854              NaN\n",
       "15                 Barbados  2012  75.132024              NaN\n",
       "16                  Belarus  2012  72.063415              NaN\n",
       "17                  Belgium  2012  80.385366              NaN\n",
       "18                   Belize  2012  73.699146              NaN\n",
       "19                    Benin  2012  59.119488              NaN\n",
       "20                  Bermuda  2012  79.288537              NaN\n",
       "21                   Bhutan  2012  67.889268              NaN\n",
       "22                  Bolivia  2012  66.926634              NaN\n",
       "23   Bosnia and Herzegovina  2012  76.121146              NaN\n",
       "24                 Botswana  2012  46.990707              NaN\n",
       "25                   Brazil  2012  73.617878              NaN\n",
       "26        Brunei Darussalam  2012  78.373463              NaN\n",
       "27                 Bulgaria  2012  74.314634              NaN\n",
       "28             Burkina Faso  2012  55.862024              NaN\n",
       "29                  Burundi  2012  53.628756              NaN\n",
       "..                      ...   ...        ...              ...\n",
       "199                  Sweden  2012  81.704878              NaN\n",
       "200             Switzerland  2012  82.697561              NaN\n",
       "201    Syrian Arab Republic  2012  74.710707              NaN\n",
       "202              Tajikistan  2012  67.257171              NaN\n",
       "203                Tanzania  2012  60.846439              NaN\n",
       "204                Thailand  2012  74.187976              NaN\n",
       "205             Timor-Leste  2012  67.020585              NaN\n",
       "206                    Togo  2012  56.150341              NaN\n",
       "207                   Tonga  2012  72.489000              NaN\n",
       "208     Trinidad and Tobago  2012  69.817146              NaN\n",
       "209                 Tunisia  2012  75.100000              NaN\n",
       "210                  Turkey  2012  74.862439              NaN\n",
       "211            Turkmenistan  2012  65.313585              NaN\n",
       "212                  Uganda  2012  58.647976              NaN\n",
       "213                 Ukraine  2012  70.944146              NaN\n",
       "214    United Arab Emirates  2012  76.957878              NaN\n",
       "215          United Kingdom  2012  81.500000              NaN\n",
       "216           United States  2012  78.741463              NaN\n",
       "217     Upper middle income  2012  74.157979              NaN\n",
       "218                 Uruguay  2012  76.907829              NaN\n",
       "219              Uzbekistan  2012  68.104000              NaN\n",
       "220                 Vanuatu  2012  71.410683              NaN\n",
       "221           Venezuela, RB  2012  74.487512              NaN\n",
       "222                 Vietnam  2012  75.606683              NaN\n",
       "223   Virgin Islands (U.S.)  2012  79.473171              NaN\n",
       "224      West Bank and Gaza  2012  73.017878              NaN\n",
       "225                   World  2012  70.779243              NaN\n",
       "226             Yemen, Rep.  2012  62.905780              NaN\n",
       "227                  Zambia  2012  57.022585              NaN\n",
       "228                Zimbabwe  2012  58.045976              NaN\n",
       "\n",
       "[229 rows x 4 columns]"
      ]
     },
     "execution_count": 4,
     "metadata": {},
     "output_type": "execute_result"
    }
   ],
   "source": [
    "data_path = \"./data/wk4/UN_Life_2012.csv\"\n",
    "data = pd.read_csv(data_path)\n",
    "data"
   ]
  },
  {
   "cell_type": "markdown",
   "metadata": {},
   "source": [
    "## Exercise\n",
    "\n",
    "Clean this data by removing the Year and Value Footnotes columns, and plot it on a labelled histogram. Then save this as an image file using \"plt.savefig(*filename*)\"."
   ]
  },
  {
   "cell_type": "markdown",
   "metadata": {},
   "source": [
    "Let's try to improve the look of this. First of all, with\n",
    "\n",
    "## ggplot\n",
    "\n",
    "`ggplot` is a library originally developed for the **R** programming language, and subsequently ported into Python. It has a slightly nicer default look. It's fairly simple to invoke:"
   ]
  },
  {
   "cell_type": "code",
   "execution_count": 5,
   "metadata": {},
   "outputs": [],
   "source": [
    "plt.style.use('ggplot')"
   ]
  },
  {
   "cell_type": "code",
   "execution_count": 6,
   "metadata": {},
   "outputs": [
    {
     "data": {
      "text/plain": [
       "Text(0.5, 1.0, 'World Life Expectancy Distribution in 2012')"
      ]
     },
     "execution_count": 6,
     "metadata": {},
     "output_type": "execute_result"
    },
    {
     "data": {
      "image/png": "[encoded data removed]",
      "text/plain": [
       "<Figure size 432x288 with 4 Axes>"
      ]
     },
     "metadata": {},
     "output_type": "display_data"
    }
   ],
   "source": [
    "summary = data.hist(bins = 20)\n",
    "plt.xlabel('Life Expectancy [Years]')\n",
    "plt.ylabel('Frequency [Countries]')\n",
    "plt.title('World Life Expectancy Distribution in 2012')"
   ]
  },
  {
   "cell_type": "markdown",
   "metadata": {},
   "source": [
    "Let's now start to work with data that runs over a number of years"
   ]
  },
  {
   "cell_type": "code",
   "execution_count": 7,
   "metadata": {},
   "outputs": [
    {
     "data": {
      "text/html": [
       "<div>\n",
       "<style scoped>\n",
       "    .dataframe tbody tr th:only-of-type {\n",
       "        vertical-align: middle;\n",
       "    }\n",
       "\n",
       "    .dataframe tbody tr th {\n",
       "        vertical-align: top;\n",
       "    }\n",
       "\n",
       "    .dataframe thead th {\n",
       "        text-align: right;\n",
       "    }\n",
       "</style>\n",
       "<table border=\"1\" class=\"dataframe\">\n",
       "  <thead>\n",
       "    <tr style=\"text-align: right;\">\n",
       "      <th></th>\n",
       "      <th>Country or Area</th>\n",
       "      <th>Year</th>\n",
       "      <th>Value</th>\n",
       "      <th>Value Footnotes</th>\n",
       "    </tr>\n",
       "  </thead>\n",
       "  <tbody>\n",
       "    <tr>\n",
       "      <th>0</th>\n",
       "      <td>Afghanistan</td>\n",
       "      <td>2012</td>\n",
       "      <td>60.509122</td>\n",
       "      <td>NaN</td>\n",
       "    </tr>\n",
       "    <tr>\n",
       "      <th>1</th>\n",
       "      <td>Afghanistan</td>\n",
       "      <td>2011</td>\n",
       "      <td>60.065366</td>\n",
       "      <td>NaN</td>\n",
       "    </tr>\n",
       "    <tr>\n",
       "      <th>2</th>\n",
       "      <td>Afghanistan</td>\n",
       "      <td>2010</td>\n",
       "      <td>59.600098</td>\n",
       "      <td>NaN</td>\n",
       "    </tr>\n",
       "    <tr>\n",
       "      <th>3</th>\n",
       "      <td>Afghanistan</td>\n",
       "      <td>2009</td>\n",
       "      <td>59.112341</td>\n",
       "      <td>NaN</td>\n",
       "    </tr>\n",
       "    <tr>\n",
       "      <th>4</th>\n",
       "      <td>Afghanistan</td>\n",
       "      <td>2008</td>\n",
       "      <td>58.607098</td>\n",
       "      <td>NaN</td>\n",
       "    </tr>\n",
       "  </tbody>\n",
       "</table>\n",
       "</div>"
      ],
      "text/plain": [
       "  Country or Area  Year      Value  Value Footnotes\n",
       "0     Afghanistan  2012  60.509122              NaN\n",
       "1     Afghanistan  2011  60.065366              NaN\n",
       "2     Afghanistan  2010  59.600098              NaN\n",
       "3     Afghanistan  2009  59.112341              NaN\n",
       "4     Afghanistan  2008  58.607098              NaN"
      ]
     },
     "execution_count": 7,
     "metadata": {},
     "output_type": "execute_result"
    }
   ],
   "source": [
    "data_path = \"./data/wk4/UN_Life_all.csv\"\n",
    "life = pd.read_csv(data_path)\n",
    "life.head()"
   ]
  },
  {
   "cell_type": "markdown",
   "metadata": {},
   "source": [
    "Note that we deliberately *don't* use one of the columns as the index, because there are multiple years of data for multiple countries. Let's carry out a *sort* operation on the data - to put in order of country, then year:"
   ]
  },
  {
   "cell_type": "code",
   "execution_count": 8,
   "metadata": {},
   "outputs": [
    {
     "data": {
      "text/html": [
       "<div>\n",
       "<style scoped>\n",
       "    .dataframe tbody tr th:only-of-type {\n",
       "        vertical-align: middle;\n",
       "    }\n",
       "\n",
       "    .dataframe tbody tr th {\n",
       "        vertical-align: top;\n",
       "    }\n",
       "\n",
       "    .dataframe thead th {\n",
       "        text-align: right;\n",
       "    }\n",
       "</style>\n",
       "<table border=\"1\" class=\"dataframe\">\n",
       "  <thead>\n",
       "    <tr style=\"text-align: right;\">\n",
       "      <th></th>\n",
       "      <th>Country or Area</th>\n",
       "      <th>Year</th>\n",
       "      <th>Value</th>\n",
       "      <th>Value Footnotes</th>\n",
       "    </tr>\n",
       "  </thead>\n",
       "  <tbody>\n",
       "    <tr>\n",
       "      <th>52</th>\n",
       "      <td>Afghanistan</td>\n",
       "      <td>1960</td>\n",
       "      <td>31.580049</td>\n",
       "      <td>NaN</td>\n",
       "    </tr>\n",
       "    <tr>\n",
       "      <th>51</th>\n",
       "      <td>Afghanistan</td>\n",
       "      <td>1961</td>\n",
       "      <td>32.095976</td>\n",
       "      <td>NaN</td>\n",
       "    </tr>\n",
       "    <tr>\n",
       "      <th>50</th>\n",
       "      <td>Afghanistan</td>\n",
       "      <td>1962</td>\n",
       "      <td>32.611878</td>\n",
       "      <td>NaN</td>\n",
       "    </tr>\n",
       "    <tr>\n",
       "      <th>49</th>\n",
       "      <td>Afghanistan</td>\n",
       "      <td>1963</td>\n",
       "      <td>33.127317</td>\n",
       "      <td>NaN</td>\n",
       "    </tr>\n",
       "    <tr>\n",
       "      <th>48</th>\n",
       "      <td>Afghanistan</td>\n",
       "      <td>1964</td>\n",
       "      <td>33.641244</td>\n",
       "      <td>NaN</td>\n",
       "    </tr>\n",
       "  </tbody>\n",
       "</table>\n",
       "</div>"
      ],
      "text/plain": [
       "   Country or Area  Year      Value  Value Footnotes\n",
       "52     Afghanistan  1960  31.580049              NaN\n",
       "51     Afghanistan  1961  32.095976              NaN\n",
       "50     Afghanistan  1962  32.611878              NaN\n",
       "49     Afghanistan  1963  33.127317              NaN\n",
       "48     Afghanistan  1964  33.641244              NaN"
      ]
     },
     "execution_count": 8,
     "metadata": {},
     "output_type": "execute_result"
    }
   ],
   "source": [
    "life.sort_values(by=['Country or Area','Year'], inplace=True)\n",
    "life.head()"
   ]
  },
  {
   "cell_type": "markdown",
   "metadata": {},
   "source": [
    "## Selecting specific rows and columns\n",
    "\n",
    "Let's plot this data out..."
   ]
  },
  {
   "cell_type": "code",
   "execution_count": 9,
   "metadata": {},
   "outputs": [
    {
     "data": {
      "text/plain": [
       "<matplotlib.axes._subplots.AxesSubplot at 0x7f9fdc414860>"
      ]
     },
     "execution_count": 9,
     "metadata": {},
     "output_type": "execute_result"
    },
    {
     "data": {
      "image/png": "[encoded data removed]",
      "text/plain": [
       "<Figure size 432x288 with 1 Axes>"
      ]
     },
     "metadata": {},
     "output_type": "display_data"
    }
   ],
   "source": [
    "life.plot()"
   ]
  },
  {
   "cell_type": "markdown",
   "metadata": {},
   "source": [
    "This is not super-useful - \"year\" is much higher than other values (no-one lives to 2,000 years old) and it's being plotted on the same axes, obliterating the variations you would otherwise see. To create a scatter graph, we have to specify our x and y columns and tell the graph to create a scatterplot:"
   ]
  },
  {
   "cell_type": "code",
   "execution_count": 10,
   "metadata": {},
   "outputs": [
    {
     "data": {
      "text/plain": [
       "<matplotlib.axes._subplots.AxesSubplot at 0x7f9fdc4026d8>"
      ]
     },
     "execution_count": 10,
     "metadata": {},
     "output_type": "execute_result"
    },
    {
     "data": {
      "image/png": "[encoded data removed]",
      "text/plain": [
       "<Figure size 432x288 with 1 Axes>"
      ]
     },
     "metadata": {},
     "output_type": "display_data"
    }
   ],
   "source": [
    "life.plot(x='Year', y='Value',  kind='scatter')"
   ]
  },
  {
   "cell_type": "markdown",
   "metadata": {},
   "source": [
    "This is a bit of a mess - the way the data is structured means that it's hard to colour each trace. It's not impossible, but in any case - that's a lot of data. Let's instead focus on the story of one or two countries.\n",
    "\n",
    "Let's use a selection which just picks out data for Afghanistan:"
   ]
  },
  {
   "cell_type": "code",
   "execution_count": 11,
   "metadata": {},
   "outputs": [
    {
     "data": {
      "text/plain": [
       "<matplotlib.axes._subplots.AxesSubplot at 0x7f9fdc38a630>"
      ]
     },
     "execution_count": 11,
     "metadata": {},
     "output_type": "execute_result"
    },
    {
     "data": {
      "image/png": "[encoded data removed]",
      "text/plain": [
       "<Figure size 432x288 with 1 Axes>"
      ]
     },
     "metadata": {},
     "output_type": "display_data"
    }
   ],
   "source": [
    "afghan = life.loc[life['Country or Area']=='Afghanistan']\n",
    "afghan.plot(x='Year', y= 'Value', kind='scatter')"
   ]
  },
  {
   "cell_type": "markdown",
   "metadata": {},
   "source": [
    "This shows a somewhat linear increase over the last 50 years, with a couple of kinks. But how does this compare with its neighbours?"
   ]
  },
  {
   "cell_type": "markdown",
   "metadata": {},
   "source": [
    "## Plotting multiple countries\n",
    "Let's look at plotting multiple graphs on the same axis. First we create an axis object, and plot the data from Afghanistan on it:"
   ]
  },
  {
   "cell_type": "code",
   "execution_count": 12,
   "metadata": {},
   "outputs": [
    {
     "data": {
      "text/plain": [
       "<matplotlib.legend.Legend at 0x7f9fdc2f9ac8>"
      ]
     },
     "execution_count": 12,
     "metadata": {},
     "output_type": "execute_result"
    },
    {
     "data": {
      "image/png": "[encoded data removed]",
      "text/plain": [
       "<Figure size 432x288 with 1 Axes>"
      ]
     },
     "metadata": {},
     "output_type": "display_data"
    }
   ],
   "source": [
    "ax = life.loc[life['Country or Area']=='Afghanistan'].plot(x='Year', y= 'Value', kind='scatter', c = 'red', label = 'Afghanistan')\n",
    "ax.legend(loc='lower right')"
   ]
  },
  {
   "cell_type": "markdown",
   "metadata": {},
   "source": [
    "Now, by passing \"ax\" as an optional argument, we can also draw data for Pakistan *on the same axes*:"
   ]
  },
  {
   "cell_type": "code",
   "execution_count": 13,
   "metadata": {},
   "outputs": [
    {
     "data": {
      "text/plain": [
       "<matplotlib.legend.Legend at 0x7f9fdc25ed30>"
      ]
     },
     "execution_count": 13,
     "metadata": {},
     "output_type": "execute_result"
    },
    {
     "data": {
      "image/png": "[encoded data removed]",
      "text/plain": [
       "<Figure size 432x288 with 1 Axes>"
      ]
     },
     "metadata": {},
     "output_type": "display_data"
    }
   ],
   "source": [
    "ax = life.loc[life['Country or Area']=='Afghanistan'].plot(x='Year', y= 'Value', kind='scatter', c = 'red', label = 'Afghanistan')\n",
    "life.loc[life['Country or Area']=='Pakistan'].plot(x='Year', y= 'Value', kind='scatter', c = 'black', ax=ax, label = 'Pakistan')\n",
    "ax.legend(loc='lower right')"
   ]
  },
  {
   "cell_type": "markdown",
   "metadata": {},
   "source": [
    "From this we can see a large (>15 year) disparity between the two countries at the beginning of the reporting period, with a bit of a dip to the upward trend for Afghanistan in the 1980s, and again in the early 2000s, corresponding to the ooccupations by the USSR and the USA/UK respectively - the impact of these conflicts is apparent in the data. By the most recent data, the gap has narrowed to ~5 years. \n",
    "\n",
    "Let's look at two other countries."
   ]
  },
  {
   "cell_type": "markdown",
   "metadata": {},
   "source": [
    "## Exercise\n",
    "\n",
    "Create a scatter graph to contrast and comment on the change of the life expectancies for Iran and Iraq in the 1970-2010 period. \n",
    "\n",
    "*Hint: you may need to refer to the original data to see how these countries are labelled.*"
   ]
  },
  {
   "cell_type": "code",
   "execution_count": 14,
   "metadata": {},
   "outputs": [
    {
     "data": {
      "text/html": [
       "<div>\n",
       "<style scoped>\n",
       "    .dataframe tbody tr th:only-of-type {\n",
       "        vertical-align: middle;\n",
       "    }\n",
       "\n",
       "    .dataframe tbody tr th {\n",
       "        vertical-align: top;\n",
       "    }\n",
       "\n",
       "    .dataframe thead th {\n",
       "        text-align: right;\n",
       "    }\n",
       "</style>\n",
       "<table border=\"1\" class=\"dataframe\">\n",
       "  <thead>\n",
       "    <tr style=\"text-align: right;\">\n",
       "      <th></th>\n",
       "      <th>Country or Area</th>\n",
       "      <th>Year</th>\n",
       "      <th>Value</th>\n",
       "      <th>Value Footnotes</th>\n",
       "    </tr>\n",
       "  </thead>\n",
       "  <tbody>\n",
       "    <tr>\n",
       "      <th>5020</th>\n",
       "      <td>Iran, Islamic Rep.</td>\n",
       "      <td>1960</td>\n",
       "      <td>44.945512</td>\n",
       "      <td>NaN</td>\n",
       "    </tr>\n",
       "    <tr>\n",
       "      <th>5019</th>\n",
       "      <td>Iran, Islamic Rep.</td>\n",
       "      <td>1961</td>\n",
       "      <td>45.508951</td>\n",
       "      <td>NaN</td>\n",
       "    </tr>\n",
       "    <tr>\n",
       "      <th>5018</th>\n",
       "      <td>Iran, Islamic Rep.</td>\n",
       "      <td>1962</td>\n",
       "      <td>46.065805</td>\n",
       "      <td>NaN</td>\n",
       "    </tr>\n",
       "    <tr>\n",
       "      <th>5017</th>\n",
       "      <td>Iran, Islamic Rep.</td>\n",
       "      <td>1963</td>\n",
       "      <td>46.618073</td>\n",
       "      <td>NaN</td>\n",
       "    </tr>\n",
       "    <tr>\n",
       "      <th>5016</th>\n",
       "      <td>Iran, Islamic Rep.</td>\n",
       "      <td>1964</td>\n",
       "      <td>47.169805</td>\n",
       "      <td>NaN</td>\n",
       "    </tr>\n",
       "  </tbody>\n",
       "</table>\n",
       "</div>"
      ],
      "text/plain": [
       "         Country or Area  Year      Value  Value Footnotes\n",
       "5020  Iran, Islamic Rep.  1960  44.945512              NaN\n",
       "5019  Iran, Islamic Rep.  1961  45.508951              NaN\n",
       "5018  Iran, Islamic Rep.  1962  46.065805              NaN\n",
       "5017  Iran, Islamic Rep.  1963  46.618073              NaN\n",
       "5016  Iran, Islamic Rep.  1964  47.169805              NaN"
      ]
     },
     "execution_count": 14,
     "metadata": {},
     "output_type": "execute_result"
    }
   ],
   "source": [
    "iran = life.loc[life[\"Country or Area\"]=='Iran, Islamic Rep.']\n",
    "iran.head()"
   ]
  },
  {
   "cell_type": "markdown",
   "metadata": {},
   "source": [
    "**Stretch goal:** Show this data on a line plot, and compare it to the life expectancy in a Nordic country over the same period, using colour to distinguish."
   ]
  },
  {
   "cell_type": "code",
   "execution_count": 15,
   "metadata": {},
   "outputs": [
    {
     "data": {
      "text/html": [
       "<div>\n",
       "<style scoped>\n",
       "    .dataframe tbody tr th:only-of-type {\n",
       "        vertical-align: middle;\n",
       "    }\n",
       "\n",
       "    .dataframe tbody tr th {\n",
       "        vertical-align: top;\n",
       "    }\n",
       "\n",
       "    .dataframe thead th {\n",
       "        text-align: right;\n",
       "    }\n",
       "</style>\n",
       "<table border=\"1\" class=\"dataframe\">\n",
       "  <thead>\n",
       "    <tr style=\"text-align: right;\">\n",
       "      <th></th>\n",
       "      <th>Country or Area</th>\n",
       "      <th>Year</th>\n",
       "      <th>Value</th>\n",
       "      <th>Value Footnotes</th>\n",
       "    </tr>\n",
       "  </thead>\n",
       "  <tbody>\n",
       "    <tr>\n",
       "      <th>5073</th>\n",
       "      <td>Iraq</td>\n",
       "      <td>1960</td>\n",
       "      <td>48.030683</td>\n",
       "      <td>NaN</td>\n",
       "    </tr>\n",
       "    <tr>\n",
       "      <th>5072</th>\n",
       "      <td>Iraq</td>\n",
       "      <td>1961</td>\n",
       "      <td>49.231634</td>\n",
       "      <td>NaN</td>\n",
       "    </tr>\n",
       "    <tr>\n",
       "      <th>5071</th>\n",
       "      <td>Iraq</td>\n",
       "      <td>1962</td>\n",
       "      <td>50.418366</td>\n",
       "      <td>NaN</td>\n",
       "    </tr>\n",
       "    <tr>\n",
       "      <th>5070</th>\n",
       "      <td>Iraq</td>\n",
       "      <td>1963</td>\n",
       "      <td>51.589415</td>\n",
       "      <td>NaN</td>\n",
       "    </tr>\n",
       "    <tr>\n",
       "      <th>5069</th>\n",
       "      <td>Iraq</td>\n",
       "      <td>1964</td>\n",
       "      <td>52.736829</td>\n",
       "      <td>NaN</td>\n",
       "    </tr>\n",
       "  </tbody>\n",
       "</table>\n",
       "</div>"
      ],
      "text/plain": [
       "     Country or Area  Year      Value  Value Footnotes\n",
       "5073            Iraq  1960  48.030683              NaN\n",
       "5072            Iraq  1961  49.231634              NaN\n",
       "5071            Iraq  1962  50.418366              NaN\n",
       "5070            Iraq  1963  51.589415              NaN\n",
       "5069            Iraq  1964  52.736829              NaN"
      ]
     },
     "execution_count": 15,
     "metadata": {},
     "output_type": "execute_result"
    }
   ],
   "source": [
    "iraq = life.loc[life[\"Country or Area\"] == \"Iraq\"]\n",
    "iraq.head()"
   ]
  },
  {
   "cell_type": "code",
   "execution_count": 16,
   "metadata": {},
   "outputs": [
    {
     "data": {
      "text/plain": [
       "<matplotlib.legend.Legend at 0x7f9fdc2f9780>"
      ]
     },
     "execution_count": 16,
     "metadata": {},
     "output_type": "execute_result"
    },
    {
     "data": {
      "image/png": "[encoded data removed]",
      "text/plain": [
       "<Figure size 432x288 with 1 Axes>"
      ]
     },
     "metadata": {},
     "output_type": "display_data"
    }
   ],
   "source": [
    "ax = iran.plot(x='Year', y= 'Value', kind='scatter', c = 'green', label = 'Iran')\n",
    "iraq.plot(x='Year', y= 'Value', kind='scatter', c = 'blue', ax=ax, label = 'Iraq')\n",
    "ax.legend(loc= \"lower right\")"
   ]
  },
  {
   "cell_type": "code",
   "execution_count": 17,
   "metadata": {},
   "outputs": [],
   "source": [
    "norway = life.loc[life[\"Country or Area\"]==\"Norway\"]\n",
    "s_norway = norway[norway['Year'].between(1970,2010)]\n",
    "s_iran = iran[iran['Year'].between(1970,2010)]\n",
    "s_iraq = iraq[iraq['Year'].between(1970,2010)]"
   ]
  },
  {
   "cell_type": "code",
   "execution_count": 18,
   "metadata": {},
   "outputs": [
    {
     "data": {
      "text/plain": [
       "<matplotlib.legend.Legend at 0x7f9fdc1abda0>"
      ]
     },
     "execution_count": 18,
     "metadata": {},
     "output_type": "execute_result"
    },
    {
     "data": {
      "image/png": "[encoded data removed]",
      "text/plain": [
       "<Figure size 432x288 with 1 Axes>"
      ]
     },
     "metadata": {},
     "output_type": "display_data"
    }
   ],
   "source": [
    "ax = s_iran.plot(x='Year', y= 'Value', kind='line', c = 'green', label = 'Iran')\n",
    "s_iraq.plot(x='Year', y= 'Value', kind='line', c = 'blue', ax=ax, label = 'Iraq')\n",
    "s_norway.plot(x=\"Year\", y= \"Value\", kind =\"line\", c='red', ax=ax, label = \"Norway\")\n",
    "ax.legend(loc= \"lower right\")"
   ]
  },
  {
   "cell_type": "markdown",
   "metadata": {},
   "source": [
    "## Bokeh\n",
    "\n",
    "![](http://orig13.deviantart.net/4518/f/2009/311/5/8/5816cf598bb8b306dafe75a9c1ab59e1.jpg)\n",
    "\n",
    "Bokeh is a Python library which creates html charts for easy online sharing. Now, this might be a bit harder to work with in the context of a cms like Wordpress, but it's worth learning, as it also lets you export images from the interactives..."
   ]
  },
  {
   "cell_type": "markdown",
   "metadata": {},
   "source": [
    "Let's  import this library via our package manager:"
   ]
  },
  {
   "cell_type": "code",
   "execution_count": 19,
   "metadata": {},
   "outputs": [
    {
     "name": "stdout",
     "output_type": "stream",
     "text": [
      "Requirement already satisfied: bokeh in /home/ravi/anaconda3/lib/python3.7/site-packages (1.0.4)\n",
      "Requirement already satisfied: packaging>=16.8 in /home/ravi/anaconda3/lib/python3.7/site-packages (from bokeh) (19.0)\n",
      "Requirement already satisfied: PyYAML>=3.10 in /home/ravi/anaconda3/lib/python3.7/site-packages (from bokeh) (5.1)\n",
      "Requirement already satisfied: tornado>=4.3 in /home/ravi/anaconda3/lib/python3.7/site-packages (from bokeh) (6.0.2)\n",
      "Requirement already satisfied: six>=1.5.2 in /home/ravi/anaconda3/lib/python3.7/site-packages (from bokeh) (1.12.0)\n",
      "Requirement already satisfied: numpy>=1.7.1 in /home/ravi/anaconda3/lib/python3.7/site-packages (from bokeh) (1.16.2)\n",
      "Requirement already satisfied: python-dateutil>=2.1 in /home/ravi/anaconda3/lib/python3.7/site-packages (from bokeh) (2.8.0)\n",
      "Requirement already satisfied: pillow>=4.0 in /home/ravi/anaconda3/lib/python3.7/site-packages (from bokeh) (5.4.1)\n",
      "Requirement already satisfied: Jinja2>=2.7 in /home/ravi/anaconda3/lib/python3.7/site-packages (from bokeh) (2.10)\n",
      "Requirement already satisfied: pyparsing>=2.0.2 in /home/ravi/anaconda3/lib/python3.7/site-packages (from packaging>=16.8->bokeh) (2.3.1)\n",
      "Requirement already satisfied: MarkupSafe>=0.23 in /home/ravi/anaconda3/lib/python3.7/site-packages (from Jinja2>=2.7->bokeh) (1.1.1)\n",
      "Requirement already satisfied: bkcharts in /home/ravi/anaconda3/lib/python3.7/site-packages (0.2)\n",
      "Requirement already satisfied: six>=1.5.2 in /home/ravi/anaconda3/lib/python3.7/site-packages (from bkcharts) (1.12.0)\n",
      "Requirement already satisfied: numpy>=1.7.1 in /home/ravi/anaconda3/lib/python3.7/site-packages (from bkcharts) (1.16.2)\n"
     ]
    }
   ],
   "source": [
    "!pip install bokeh\n",
    "!pip install bkcharts"
   ]
  },
  {
   "cell_type": "code",
   "execution_count": 20,
   "metadata": {},
   "outputs": [],
   "source": [
    "from bokeh.plotting import figure, output_file, show, output_notebook"
   ]
  },
  {
   "cell_type": "code",
   "execution_count": null,
   "metadata": {},
   "outputs": [],
   "source": []
  },
  {
   "cell_type": "markdown",
   "metadata": {},
   "source": [
    "Let's plot all the data..."
   ]
  },
  {
   "cell_type": "code",
   "execution_count": 21,
   "metadata": {},
   "outputs": [],
   "source": [
    "data_path = \"./data/wk4/Life_Expectancy_1.html\"\n",
    "output_file(data_path, title=\"Number of references per million words by year\")\n",
    "#output_notebook()\n",
    "p = figure(title= \"Life expectancy\", x_axis_label='Year', y_axis_label='Life expectancy [Years]')\n",
    "p.scatter(x=life['Year'], y = life['Value'])\n",
    "show(p)"
   ]
  },
  {
   "cell_type": "markdown",
   "metadata": {},
   "source": [
    "Go have a look in your Data Folder.  You'll now have a file called Life_Expectancy_1.html in there.\n",
    "\n",
    "Bit of a mess. Let's instead look at two countries - Vietnam, and France, its previous historical colonial occupier."
   ]
  },
  {
   "cell_type": "code",
   "execution_count": 22,
   "metadata": {},
   "outputs": [],
   "source": [
    "data_path = \"./data/wk4/Life_Expectancy_2.html\"\n",
    "\n",
    "output_file(data_path, title=\"Life Expectancy\")\n",
    "#output_notebook()\n",
    "p = figure(title= \"Life expectancy\", x_axis_label='Year', y_axis_label='Life expectancy [Years]')\n",
    "p.line(x=life[life['Country or Area']=='France']['Year'], y = life[life['Country or Area']=='France']['Value'], legend='France', line_color = \"black\")\n",
    "p.line(x=life[life['Country or Area']=='Vietnam']['Year'], y = life[life['Country or Area']=='Vietnam']['Value'], legend = 'Vietnam', line_color = \"blue\")\n",
    "\n",
    "show(p)\n"
   ]
  },
  {
   "cell_type": "code",
   "execution_count": 23,
   "metadata": {},
   "outputs": [],
   "source": [
    "show(p)"
   ]
  },
  {
   "cell_type": "markdown",
   "metadata": {},
   "source": [
    "Go have a look in your Data Folder again.  You'll now have a file called Life_Expectancy_2.html in there."
   ]
  },
  {
   "cell_type": "markdown",
   "metadata": {},
   "source": [
    "## Exercise:\n",
    "Using the resulting html page, create a .png file which covers the period 1960-1985.\n",
    "\n",
    "**Stretch goals:**\n",
    "\n",
    "- Modify the p.legend.location variable so the legend shows in the top left of the graph.\n",
    "- Set line_color (an optional argument) to black for France and blue for Vietnam\n"
   ]
  },
  {
   "cell_type": "markdown",
   "metadata": {},
   "source": [
    "## Seaborn\n",
    "\n",
    "![](https://media.giphy.com/media/yoJC2A59OCZHs1LXvW/giphy.gif)\n",
    "\n",
    "Seaborn is a library used for creating a range of visualisations that are difficult to create in other ways, including cluster maps, kdes, violin plots, and scatter matrices.\n",
    "\n"
   ]
  },
  {
   "cell_type": "code",
   "execution_count": 24,
   "metadata": {},
   "outputs": [],
   "source": [
    "import seaborn"
   ]
  },
  {
   "cell_type": "markdown",
   "metadata": {},
   "source": [
    "First off, importing this will change the default look of graphs:"
   ]
  },
  {
   "cell_type": "code",
   "execution_count": 25,
   "metadata": {},
   "outputs": [
    {
     "data": {
      "text/plain": [
       "<matplotlib.axes._subplots.AxesSubplot at 0x7f9fd9799908>"
      ]
     },
     "execution_count": 25,
     "metadata": {},
     "output_type": "execute_result"
    },
    {
     "data": {
      "image/png": "[encoded data removed]",
      "text/plain": [
       "<Figure size 432x288 with 1 Axes>"
      ]
     },
     "metadata": {},
     "output_type": "display_data"
    }
   ],
   "source": [
    "life['Value'].hist()"
   ]
  },
  {
   "cell_type": "markdown",
   "metadata": {},
   "source": [
    "But let's work with some functions specific to Seaborn. For example, we can do a boxplot for the whole dataset (not very exciting, but bear with me):"
   ]
  },
  {
   "cell_type": "code",
   "execution_count": 26,
   "metadata": {},
   "outputs": [
    {
     "data": {
      "text/plain": [
       "<matplotlib.axes._subplots.AxesSubplot at 0x7f9fd9715ac8>"
      ]
     },
     "execution_count": 26,
     "metadata": {},
     "output_type": "execute_result"
    },
    {
     "data": {
      "image/png": "[encoded data removed]",
      "text/plain": [
       "<Figure size 432x288 with 1 Axes>"
      ]
     },
     "metadata": {},
     "output_type": "display_data"
    }
   ],
   "source": [
    "seaborn.boxplot(data=life['Value'])"
   ]
  },
  {
   "cell_type": "markdown",
   "metadata": {},
   "source": [
    "And we can create a violin plot of the data - which is effectively a (smoothed) histogram of the data. Compare it to the above histogram."
   ]
  },
  {
   "cell_type": "code",
   "execution_count": 27,
   "metadata": {},
   "outputs": [
    {
     "data": {
      "text/plain": [
       "<matplotlib.axes._subplots.AxesSubplot at 0x7f9fd96fc940>"
      ]
     },
     "execution_count": 27,
     "metadata": {},
     "output_type": "execute_result"
    },
    {
     "data": {
      "image/png": "[encoded data removed]",
      "text/plain": [
       "<Figure size 432x288 with 1 Axes>"
      ]
     },
     "metadata": {},
     "output_type": "display_data"
    }
   ],
   "source": [
    "seaborn.violinplot(data=life['Value'], inner='quartile')"
   ]
  },
  {
   "cell_type": "markdown",
   "metadata": {},
   "source": [
    "More generally, we can not only show a distribution, we can also show multiple distributions (e.g. at different timepoints) and shade and split the distribution by a binary variable (e.g. sex). Here is a built-in example from the seaborn library which shows a much more sophisticated violin plot."
   ]
  },
  {
   "cell_type": "code",
   "execution_count": 28,
   "metadata": {},
   "outputs": [],
   "source": [
    "#tips = seaborn.load_dataset(\"tips\")\n",
    "tips = pd.read_csv('./data/wk4/tips.csv', error_bad_lines=False)\n"
   ]
  },
  {
   "cell_type": "code",
   "execution_count": 29,
   "metadata": {},
   "outputs": [
    {
     "data": {
      "image/png": "[encoded data removed]",
      "text/plain": [
       "<Figure size 432x288 with 1 Axes>"
      ]
     },
     "metadata": {},
     "output_type": "display_data"
    }
   ],
   "source": [
    "seaborn.set(style=\"whitegrid\", palette=\"pastel\", color_codes=True)\n",
    "seaborn.set_color_codes(\"dark\")\n",
    "\n",
    "# Load the example tips dataset\n",
    "\n",
    "# Draw a nested violinplot and split the violins for easier comparison\n",
    "seaborn.violinplot(x=\"day\", y=\"tip\", hue=\"sex\", data=tips, split=True,\n",
    "               inner=\"quart\", palette={\"Male\": \"b\", \"Female\": \"y\"})\n",
    "seaborn.despine(left=True)"
   ]
  },
  {
   "cell_type": "markdown",
   "metadata": {},
   "source": [
    "This example is a bit unusual because it's not a histogram - the \"y\" axis is the tip for a given day (\"x\"). Then the data is split by gender. In this graph, we are showing a very rich dataset - the distribution of tips,  gender and time. Thus we're showing a complex dataset in an accessible way. **What does this graph tell us?**"
   ]
  },
  {
   "cell_type": "markdown",
   "metadata": {},
   "source": [
    "## I hear the sound of violins\n",
    "Let's now apply this visualisation technique to our life expectancy data. I'm interested in the distribution of life expectancy year on year - not the life expectancies, now, of individual countries, but each year, what is the histogram of life expectancies across the world. Rather than using *every* reporting year, I'm going to look at every ten years.\n",
    "\n",
    "**Extension: Modulo arithmatic**\n",
    "The modulo (%) symbol divides two integers and finds the remainder. You may remember from primary school (though possibly not) that in dividing integers, we had an \"answer\" and a \"remainder\" rather than a pure decimal. So\n",
    "\n",
    "- 1/2 = 0 r 1\n",
    "- 11/7 = 1 r 4\n",
    " - 23/10 = 2 r 3\n",
    "\n",
    "modulo arithmatic just takes the remainder, so\n",
    "\n",
    "- 1%2 = 1\n",
    "- 11%7 = 4\n",
    "- 23%10 = 3 \n",
    "\n",
    "and so on. I've used that below to pick out specific dates, only allowing years where year%10==0; so this will give me 1960, 1970, 1980, 1990, 2000 and 2010. **How would I have phrased this if I'd wanted 1962, 1972, etc? What if I'd wanted 1960, 1965, 1970, 1975, etc?**\n"
   ]
  },
  {
   "cell_type": "code",
   "execution_count": 30,
   "metadata": {},
   "outputs": [
    {
     "data": {
      "text/plain": [
       "Text(0, 0.5, 'Life Expectancy [Years]')"
      ]
     },
     "execution_count": 30,
     "metadata": {},
     "output_type": "execute_result"
    },
    {
     "data": {
      "image/png": "[encoded data removed]",
      "text/plain": [
       "<Figure size 432x288 with 1 Axes>"
      ]
     },
     "metadata": {},
     "output_type": "display_data"
    }
   ],
   "source": [
    "seaborn.violinplot(data=life[life['Year']%10==0], x='Year', y= 'Value')\n",
    "plt.ylabel('Life Expectancy [Years]')"
   ]
  },
  {
   "cell_type": "markdown",
   "metadata": {},
   "source": [
    "## Question\n",
    "What does this visualisation tell us about changes in the world over half a century?"
   ]
  },
  {
   "cell_type": "code",
   "execution_count": null,
   "metadata": {},
   "outputs": [],
   "source": []
  },
  {
   "cell_type": "markdown",
   "metadata": {},
   "source": [
    "## Split and run\n",
    "I want to run the data with a split violinplot (as the tipping example above has created). What I will do is to show the same data, but instead of having several timeperiods, I will compare two years (1960 and 2010) on one split plot. This means that the year is no longer the x axis (it's the split variable), so I will make up a dummy variable in order to plot the data. (This isn't something we'd normally do, it's just to get this simple example working)"
   ]
  },
  {
   "cell_type": "code",
   "execution_count": 31,
   "metadata": {},
   "outputs": [
    {
     "data": {
      "text/html": [
       "<div>\n",
       "<style scoped>\n",
       "    .dataframe tbody tr th:only-of-type {\n",
       "        vertical-align: middle;\n",
       "    }\n",
       "\n",
       "    .dataframe tbody tr th {\n",
       "        vertical-align: top;\n",
       "    }\n",
       "\n",
       "    .dataframe thead th {\n",
       "        text-align: right;\n",
       "    }\n",
       "</style>\n",
       "<table border=\"1\" class=\"dataframe\">\n",
       "  <thead>\n",
       "    <tr style=\"text-align: right;\">\n",
       "      <th></th>\n",
       "      <th>Country or Area</th>\n",
       "      <th>Year</th>\n",
       "      <th>Value</th>\n",
       "      <th>Value Footnotes</th>\n",
       "      <th>Dummy</th>\n",
       "    </tr>\n",
       "  </thead>\n",
       "  <tbody>\n",
       "    <tr>\n",
       "      <th>7910</th>\n",
       "      <td>New Zealand</td>\n",
       "      <td>1984</td>\n",
       "      <td>74.370732</td>\n",
       "      <td>NaN</td>\n",
       "      <td>1</td>\n",
       "    </tr>\n",
       "    <tr>\n",
       "      <th>7052</th>\n",
       "      <td>Mauritius</td>\n",
       "      <td>1994</td>\n",
       "      <td>70.158537</td>\n",
       "      <td>NaN</td>\n",
       "      <td>1</td>\n",
       "    </tr>\n",
       "    <tr>\n",
       "      <th>7647</th>\n",
       "      <td>Myanmar</td>\n",
       "      <td>1982</td>\n",
       "      <td>55.723268</td>\n",
       "      <td>NaN</td>\n",
       "      <td>1</td>\n",
       "    </tr>\n",
       "    <tr>\n",
       "      <th>1263</th>\n",
       "      <td>Botswana</td>\n",
       "      <td>1985</td>\n",
       "      <td>62.985268</td>\n",
       "      <td>NaN</td>\n",
       "      <td>1</td>\n",
       "    </tr>\n",
       "    <tr>\n",
       "      <th>2615</th>\n",
       "      <td>Czech Republic</td>\n",
       "      <td>1963</td>\n",
       "      <td>70.304390</td>\n",
       "      <td>NaN</td>\n",
       "      <td>1</td>\n",
       "    </tr>\n",
       "    <tr>\n",
       "      <th>1382</th>\n",
       "      <td>Brunei Darussalam</td>\n",
       "      <td>1972</td>\n",
       "      <td>68.070780</td>\n",
       "      <td>NaN</td>\n",
       "      <td>1</td>\n",
       "    </tr>\n",
       "    <tr>\n",
       "      <th>7832</th>\n",
       "      <td>New Caledonia</td>\n",
       "      <td>2009</td>\n",
       "      <td>76.283902</td>\n",
       "      <td>2.0</td>\n",
       "      <td>1</td>\n",
       "    </tr>\n",
       "    <tr>\n",
       "      <th>7472</th>\n",
       "      <td>Montenegro</td>\n",
       "      <td>1998</td>\n",
       "      <td>74.533634</td>\n",
       "      <td>NaN</td>\n",
       "      <td>1</td>\n",
       "    </tr>\n",
       "    <tr>\n",
       "      <th>6170</th>\n",
       "      <td>Liberia</td>\n",
       "      <td>2006</td>\n",
       "      <td>56.140390</td>\n",
       "      <td>NaN</td>\n",
       "      <td>1</td>\n",
       "    </tr>\n",
       "    <tr>\n",
       "      <th>4133</th>\n",
       "      <td>Guam</td>\n",
       "      <td>1999</td>\n",
       "      <td>74.738488</td>\n",
       "      <td>NaN</td>\n",
       "      <td>1</td>\n",
       "    </tr>\n",
       "    <tr>\n",
       "      <th>1435</th>\n",
       "      <td>Bulgaria</td>\n",
       "      <td>1972</td>\n",
       "      <td>70.899512</td>\n",
       "      <td>NaN</td>\n",
       "      <td>1</td>\n",
       "    </tr>\n",
       "    <tr>\n",
       "      <th>9919</th>\n",
       "      <td>Spain</td>\n",
       "      <td>1989</td>\n",
       "      <td>76.813659</td>\n",
       "      <td>NaN</td>\n",
       "      <td>1</td>\n",
       "    </tr>\n",
       "    <tr>\n",
       "      <th>7382</th>\n",
       "      <td>Moldova</td>\n",
       "      <td>1982</td>\n",
       "      <td>65.020829</td>\n",
       "      <td>NaN</td>\n",
       "      <td>1</td>\n",
       "    </tr>\n",
       "    <tr>\n",
       "      <th>7149</th>\n",
       "      <td>Micronesia, Fed. Sts.</td>\n",
       "      <td>2003</td>\n",
       "      <td>67.635146</td>\n",
       "      <td>NaN</td>\n",
       "      <td>1</td>\n",
       "    </tr>\n",
       "    <tr>\n",
       "      <th>2307</th>\n",
       "      <td>Costa Rica</td>\n",
       "      <td>2001</td>\n",
       "      <td>77.895805</td>\n",
       "      <td>NaN</td>\n",
       "      <td>1</td>\n",
       "    </tr>\n",
       "    <tr>\n",
       "      <th>8928</th>\n",
       "      <td>Qatar</td>\n",
       "      <td>1977</td>\n",
       "      <td>71.848341</td>\n",
       "      <td>NaN</td>\n",
       "      <td>1</td>\n",
       "    </tr>\n",
       "    <tr>\n",
       "      <th>2413</th>\n",
       "      <td>Croatia</td>\n",
       "      <td>2001</td>\n",
       "      <td>74.512927</td>\n",
       "      <td>NaN</td>\n",
       "      <td>1</td>\n",
       "    </tr>\n",
       "    <tr>\n",
       "      <th>10643</th>\n",
       "      <td>Tanzania</td>\n",
       "      <td>1990</td>\n",
       "      <td>50.463366</td>\n",
       "      <td>NaN</td>\n",
       "      <td>1</td>\n",
       "    </tr>\n",
       "    <tr>\n",
       "      <th>10174</th>\n",
       "      <td>Sub-Saharan Africa (all income levels)</td>\n",
       "      <td>1982</td>\n",
       "      <td>48.810070</td>\n",
       "      <td>NaN</td>\n",
       "      <td>1</td>\n",
       "    </tr>\n",
       "    <tr>\n",
       "      <th>1519</th>\n",
       "      <td>Burundi</td>\n",
       "      <td>1994</td>\n",
       "      <td>46.430927</td>\n",
       "      <td>NaN</td>\n",
       "      <td>1</td>\n",
       "    </tr>\n",
       "  </tbody>\n",
       "</table>\n",
       "</div>"
      ],
      "text/plain": [
       "                              Country or Area  Year      Value  \\\n",
       "7910                              New Zealand  1984  74.370732   \n",
       "7052                                Mauritius  1994  70.158537   \n",
       "7647                                  Myanmar  1982  55.723268   \n",
       "1263                                 Botswana  1985  62.985268   \n",
       "2615                           Czech Republic  1963  70.304390   \n",
       "1382                        Brunei Darussalam  1972  68.070780   \n",
       "7832                            New Caledonia  2009  76.283902   \n",
       "7472                               Montenegro  1998  74.533634   \n",
       "6170                                  Liberia  2006  56.140390   \n",
       "4133                                     Guam  1999  74.738488   \n",
       "1435                                 Bulgaria  1972  70.899512   \n",
       "9919                                    Spain  1989  76.813659   \n",
       "7382                                  Moldova  1982  65.020829   \n",
       "7149                    Micronesia, Fed. Sts.  2003  67.635146   \n",
       "2307                               Costa Rica  2001  77.895805   \n",
       "8928                                    Qatar  1977  71.848341   \n",
       "2413                                  Croatia  2001  74.512927   \n",
       "10643                                Tanzania  1990  50.463366   \n",
       "10174  Sub-Saharan Africa (all income levels)  1982  48.810070   \n",
       "1519                                  Burundi  1994  46.430927   \n",
       "\n",
       "       Value Footnotes  Dummy  \n",
       "7910               NaN      1  \n",
       "7052               NaN      1  \n",
       "7647               NaN      1  \n",
       "1263               NaN      1  \n",
       "2615               NaN      1  \n",
       "1382               NaN      1  \n",
       "7832               2.0      1  \n",
       "7472               NaN      1  \n",
       "6170               NaN      1  \n",
       "4133               NaN      1  \n",
       "1435               NaN      1  \n",
       "9919               NaN      1  \n",
       "7382               NaN      1  \n",
       "7149               NaN      1  \n",
       "2307               NaN      1  \n",
       "8928               NaN      1  \n",
       "2413               NaN      1  \n",
       "10643              NaN      1  \n",
       "10174              NaN      1  \n",
       "1519               NaN      1  "
      ]
     },
     "execution_count": 31,
     "metadata": {},
     "output_type": "execute_result"
    }
   ],
   "source": [
    "life['Dummy'] = [1]*len(life.index)\n",
    "life.sample(20)"
   ]
  },
  {
   "cell_type": "markdown",
   "metadata": {},
   "source": [
    "The code we produce to create the violinplot is more complex than our last example. Take a look at it and the output:"
   ]
  },
  {
   "cell_type": "code",
   "execution_count": 32,
   "metadata": {},
   "outputs": [
    {
     "data": {
      "text/plain": [
       "Text(0.5, 0, 'Frequency Distribution')"
      ]
     },
     "execution_count": 32,
     "metadata": {},
     "output_type": "execute_result"
    },
    {
     "data": {
      "image/png": "[encoded data removed]",
      "text/plain": [
       "<Figure size 432x288 with 1 Axes>"
      ]
     },
     "metadata": {},
     "output_type": "display_data"
    }
   ],
   "source": [
    "seaborn.violinplot(data=life[life['Year']%50==10], x = 'Dummy', y= 'Value', hue = \"Year\", split=True, inner='quartile')\n",
    "plt.ylabel('Life Expectancy [Years]')\n",
    "plt.xlabel('Frequency Distribution')"
   ]
  },
  {
   "cell_type": "markdown",
   "metadata": {},
   "source": [
    "## Extension: How did I produce this plot?\n",
    "Consider:\n",
    "- What is the data source?\n",
    "- Why does 'Year' need to be a binary variable, and how have I achieved that?\n",
    "- Where have a specified the variable that the split occurs on? Make a copy of the cell and see what happens when you remove this condition\n",
    "- What does the Split=True argument mean? What happens if you remove it?\n",
    "- What does the inner=quartile argument mean? What happens if you remove or change it? What alternatives are there, and what do they look like?"
   ]
  },
  {
   "cell_type": "code",
   "execution_count": null,
   "metadata": {},
   "outputs": [],
   "source": []
  },
  {
   "cell_type": "markdown",
   "metadata": {},
   "source": [
    "## Exercise\n",
    "\n",
    "Using the UN cities data (from the same source as last week) create violin plots for  2010-2014 inclusive, showing the distribution of city populations by year, split by sex. Think carefully about each step required to reach the final goal. What problems are there with showing the data in this way?"
   ]
  },
  {
   "cell_type": "code",
   "execution_count": 44,
   "metadata": {
    "scrolled": false
   },
   "outputs": [],
   "source": [
    "cities = pd.read_csv(\"./data/wk4/UN_Cities_all.csv\", encoding=\"mac_roman\")\n",
    "\n",
    "cities = cities[cities.Sex != \"Both Sexes\"]\n",
    "cities = cities.drop(columns = \"City type\")\n",
    "cities = cities[cities.Year.between(2010,2014)]\n",
    "cities = cities[cities.Value <= 1000000]\n"
   ]
  },
  {
   "cell_type": "code",
   "execution_count": 45,
   "metadata": {},
   "outputs": [
    {
     "data": {
      "text/plain": [
       "<matplotlib.axes._subplots.AxesSubplot at 0x7f9fc02a51d0>"
      ]
     },
     "execution_count": 45,
     "metadata": {},
     "output_type": "execute_result"
    },
    {
     "data": {
      "image/png": "[encoded data removed]",
      "text/plain": [
       "<Figure size 432x288 with 1 Axes>"
      ]
     },
     "metadata": {},
     "output_type": "display_data"
    }
   ],
   "source": [
    "seaborn.violinplot(data=cities, x = 'Year', y= 'Value', hue = \"Sex\", split=True, inner='quartile')"
   ]
  },
  {
   "cell_type": "code",
   "execution_count": 35,
   "metadata": {},
   "outputs": [
    {
     "data": {
      "image/png": "[encoded data removed]",
      "text/plain": [
       "<IPython.core.display.Image object>"
      ]
     },
     "execution_count": 35,
     "metadata": {},
     "output_type": "execute_result"
    }
   ],
   "source": [
    "data_path = \"https://s3.eu-west-2.amazonaws.com/qm2/wk4/cities_violin.png\"\n",
    "\n",
    "from IPython.display import Image\n",
    "Image(data_path)"
   ]
  },
  {
   "cell_type": "markdown",
   "metadata": {},
   "source": [
    "## Extension\n",
    "How are these graphing techniques useful and relevant to your datasets and group projects?"
   ]
  },
  {
   "cell_type": "code",
   "execution_count": null,
   "metadata": {},
   "outputs": [],
   "source": []
  }
 ],
 "metadata": {
  "kernelspec": {
   "display_name": "Python 3",
   "language": "python",
   "name": "python3"
  },
  "language_info": {
   "codemirror_mode": {
    "name": "ipython",
    "version": 3
   },
   "file_extension": ".py",
   "mimetype": "text/x-python",
   "name": "python",
   "nbconvert_exporter": "python",
   "pygments_lexer": "ipython3",
   "version": "3.7.3"
  }
 },
 "nbformat": 4,
 "nbformat_minor": 1
}
