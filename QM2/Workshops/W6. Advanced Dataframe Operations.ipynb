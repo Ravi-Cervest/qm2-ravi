{
 "cells": [
  {
   "cell_type": "markdown",
   "metadata": {},
   "source": [
    "## Quantitative Methods 2:  Data Science and Visualisation\n",
    "## Workshop 6: Advanced Dataframe Operations\n",
    "\n",
    "Today we will be talking about and using **merging** and **joining** and performing some advanced Dataframe operations."
   ]
  },
  {
   "cell_type": "markdown",
   "metadata": {},
   "source": [
    "## Downloading the Data\n",
    "Let's grab the data we will need this week from our course website and save it into our data folder. If you've not already created a data folder then do so using the following command. \n",
    "\n",
    "Don't worry if it generates an error, that means you've already got a data folder."
   ]
  },
  {
   "cell_type": "code",
   "execution_count": null,
   "metadata": {
    "collapsed": true
   },
   "outputs": [],
   "source": [
    "!mkdir data"
   ]
  },
  {
   "cell_type": "code",
   "execution_count": null,
   "metadata": {
    "collapsed": true
   },
   "outputs": [],
   "source": [
    "!mkdir data/wk6\n",
    "!curl https://s3.eu-west-2.amazonaws.com/qm2/wk6/veg.csv -o ./data/wk6/veg.csv\n",
    "!curl https://s3.eu-west-2.amazonaws.com/qm2/wk6/ITF_GOODS_TRANSPORT_Data_fb8faed3-af67-457b-8387-8485f0ceea42.csv -o ./data/wk6/ITF_GOODS_TRANSPORT_Data_fb8faed3-af67-457b-8387-8485f0ceea42.csv\n",
    "!curl https://s3.eu-west-2.amazonaws.com/qm2/wk6/AIR_GHG_Data_5f3eccd7-21db-4950-8390-2311d87476ee.csv -o ./data/wk6/AIR_GHG_Data_5f3eccd7-21db-4950-8390-2311d87476ee.csv"
   ]
  },
  {
   "cell_type": "markdown",
   "metadata": {},
   "source": [
    "`--------------------------------`"
   ]
  },
  {
   "cell_type": "markdown",
   "metadata": {},
   "source": [
    "Let's remind ourselves of the two types of join"
   ]
  },
  {
   "cell_type": "code",
   "execution_count": null,
   "metadata": {
    "collapsed": true
   },
   "outputs": [],
   "source": [
    "from IPython.display import Image\n",
    "Image(\"https://s3.eu-west-2.amazonaws.com/qm2/wk1/inner_join.png\")"
   ]
  },
  {
   "cell_type": "code",
   "execution_count": null,
   "metadata": {
    "collapsed": true
   },
   "outputs": [],
   "source": [
    "Image(\"https://s3.eu-west-2.amazonaws.com/qm2/wk6/left_outer_join.png\")"
   ]
  },
  {
   "cell_type": "markdown",
   "metadata": {},
   "source": [
    "We start with an example.\n",
    "\n",
    "Let's create two Dataframes "
   ]
  },
  {
   "cell_type": "code",
   "execution_count": null,
   "metadata": {
    "collapsed": true
   },
   "outputs": [],
   "source": [
    "import matplotlib.pyplot as plt\n",
    "import pandas as pd\n",
    "import numpy as np\n",
    "import random"
   ]
  },
  {
   "cell_type": "code",
   "execution_count": null,
   "metadata": {
    "collapsed": true
   },
   "outputs": [],
   "source": [
    "df1 = pd.DataFrame(np.random.randn(5, 5))"
   ]
  },
  {
   "cell_type": "code",
   "execution_count": null,
   "metadata": {
    "collapsed": true
   },
   "outputs": [],
   "source": [
    "df1"
   ]
  },
  {
   "cell_type": "code",
   "execution_count": null,
   "metadata": {
    "collapsed": true
   },
   "outputs": [],
   "source": [
    "df2 = pd.DataFrame(np.random.randn(3, 5))"
   ]
  },
  {
   "cell_type": "code",
   "execution_count": null,
   "metadata": {
    "collapsed": true
   },
   "outputs": [],
   "source": [
    "df2"
   ]
  },
  {
   "cell_type": "markdown",
   "metadata": {},
   "source": [
    "Let's merge them by rows. concat does that for us."
   ]
  },
  {
   "cell_type": "code",
   "execution_count": null,
   "metadata": {
    "collapsed": true
   },
   "outputs": [],
   "source": [
    "df3 = pd.concat([df1,df2])"
   ]
  },
  {
   "cell_type": "code",
   "execution_count": null,
   "metadata": {
    "collapsed": true
   },
   "outputs": [],
   "source": [
    "df3"
   ]
  },
  {
   "cell_type": "markdown",
   "metadata": {},
   "source": [
    "What is the problem with the dataframe above? "
   ]
  },
  {
   "cell_type": "code",
   "execution_count": null,
   "metadata": {
    "collapsed": true
   },
   "outputs": [],
   "source": []
  },
  {
   "cell_type": "markdown",
   "metadata": {},
   "source": [
    "`-----------------------------------------`   \n",
    "  \n",
    "The solution is to set ignore_index to True."
   ]
  },
  {
   "cell_type": "code",
   "execution_count": null,
   "metadata": {
    "collapsed": true
   },
   "outputs": [],
   "source": [
    "df3 = pd.concat([df1,df2], ignore_index=True)"
   ]
  },
  {
   "cell_type": "code",
   "execution_count": null,
   "metadata": {
    "collapsed": true
   },
   "outputs": [],
   "source": [
    "df3"
   ]
  },
  {
   "cell_type": "markdown",
   "metadata": {},
   "source": [
    "`ignore_index` is very useful when we want a new DataFrame which only contains data from other DataFrames , but unrelated otherwise. \n"
   ]
  },
  {
   "cell_type": "markdown",
   "metadata": {},
   "source": [
    "Now we want to look at more comlex merge operations, which take in to account the data values."
   ]
  },
  {
   "cell_type": "code",
   "execution_count": null,
   "metadata": {
    "collapsed": true
   },
   "outputs": [],
   "source": [
    "veg = {\n",
    "    'vegetables': ['potato', 'mung bean', 'carrot', 'lettuce'],\n",
    "    'species': ['S. tuberosum', 'V. radiata', 'D. carota', 'L. sativa'],\n",
    "    'energy/100g (kJ)': [322, 334, 173, 55],\n",
    "}\n",
    "\n",
    "df = pd.DataFrame(veg)"
   ]
  },
  {
   "cell_type": "code",
   "execution_count": null,
   "metadata": {
    "collapsed": true
   },
   "outputs": [],
   "source": [
    "df3"
   ]
  },
  {
   "cell_type": "code",
   "execution_count": null,
   "metadata": {
    "collapsed": true
   },
   "outputs": [],
   "source": [
    "data_path = \"./data/wk6/veg.csv\"\n",
    "\n",
    "df_veg = pd.read_csv(data_path)"
   ]
  },
  {
   "cell_type": "code",
   "execution_count": null,
   "metadata": {
    "collapsed": true
   },
   "outputs": [],
   "source": [
    "df_veg"
   ]
  },
  {
   "cell_type": "markdown",
   "metadata": {},
   "source": [
    "You can quickly summarise data in a DataFrame column by using the `value_counts()` method"
   ]
  },
  {
   "cell_type": "code",
   "execution_count": null,
   "metadata": {
    "collapsed": true
   },
   "outputs": [],
   "source": [
    "df_veg['vegetables'].value_counts()"
   ]
  },
  {
   "cell_type": "markdown",
   "metadata": {},
   "source": [
    "Note that the returned data is a `Series`, we can turn it in to a DataFrame quite easily using 'to_frame'."
   ]
  },
  {
   "cell_type": "code",
   "execution_count": null,
   "metadata": {
    "collapsed": true
   },
   "outputs": [],
   "source": [
    "df_veg_counts  = df_veg['vegetables'].value_counts().to_frame(name='veg counts')"
   ]
  },
  {
   "cell_type": "code",
   "execution_count": null,
   "metadata": {
    "collapsed": true
   },
   "outputs": [],
   "source": [
    "df_veg_counts"
   ]
  },
  {
   "cell_type": "code",
   "execution_count": null,
   "metadata": {
    "collapsed": true
   },
   "outputs": [],
   "source": [
    "df"
   ]
  },
  {
   "cell_type": "markdown",
   "metadata": {},
   "source": [
    "Joining the value counts to our categories"
   ]
  },
  {
   "cell_type": "code",
   "execution_count": null,
   "metadata": {
    "collapsed": true
   },
   "outputs": [],
   "source": [
    "df_joined = df.merge(\n",
    "    df_veg_counts,\n",
    "    how='inner',\n",
    "    left_on='vegetables', right_index=True)"
   ]
  },
  {
   "cell_type": "code",
   "execution_count": null,
   "metadata": {
    "collapsed": true
   },
   "outputs": [],
   "source": [
    "df_joined"
   ]
  },
  {
   "cell_type": "markdown",
   "metadata": {},
   "source": [
    "This is a complex operation, so let's break down exactly how we did it, beginning with the **innermost** operations\n",
    "\n",
    "1. We used the `value_counts()` method to generate a `Series`\n",
    "2. We converted the `Series` into a DataFrame using `to_frame()`\n",
    "    - The resulting DataFrame uses the **left-most** column of values as its index\n",
    "    - We renamed the value column to 'veg counts' using the `name` keyword.\n",
    "3. We specified that we wished to perform an **inner join**\n",
    "    - Joins are carried out using **keys**\n",
    "    - Specifying an **inner** join means we are using only the key values that our DataFrames have in common\n",
    "    - The `left_on` keyword lets us specify the column we want to use for our keys\n",
    "    - The `right_index` keyword lets us specify that we wish to use the **index** from our right DatafFrame (the veg counts) as keys. \n",
    "4. Notice that although we have a value count of parnsips, there is no parsnip data in our joined DataFrame. This is because that data was discarded due to no matching key existing in the \"left\" DataFrame.\n",
    "\n",
    "5. Pandas has **four** join strategies:\n",
    "    - Left Join: use **only** keys from **left** DataFrame. SQL: [left outer join](http://goo.gl/JICveI)\n",
    "    - Right Join: use **only** keys from **right** DataFrame. SQL: [right outer join](http://goo.gl/TrrHjQ)\n",
    "    - Outer Join: use union of **keys from both** DataFrames. SQL: [full outer join](http://goo.gl/bVRqO8)\n",
    "    - Inner Join: use **intersection of keys** from both DataFrames. SQL: [inner join](http://goo.gl/Cf1MF8)"
   ]
  },
  {
   "cell_type": "markdown",
   "metadata": {},
   "source": [
    "The operations below show what effect each join strategy has:"
   ]
  },
  {
   "cell_type": "code",
   "execution_count": null,
   "metadata": {
    "collapsed": true
   },
   "outputs": [],
   "source": [
    "# note the NaN value for lettuce - there's no value count of it\n",
    "df.merge(\n",
    "    df_veg_counts,\n",
    "    how='left',\n",
    "    left_on='vegetables', right_index=True)"
   ]
  },
  {
   "cell_type": "code",
   "execution_count": null,
   "metadata": {
    "collapsed": true
   },
   "outputs": [],
   "source": [
    "# note the NaN values from our left dataframe\n",
    "df.merge(\n",
    "    df_veg_counts,\n",
    "    how='right',\n",
    "    left_on='vegetables', right_index=True)"
   ]
  },
  {
   "cell_type": "code",
   "execution_count": null,
   "metadata": {
    "collapsed": true
   },
   "outputs": [],
   "source": [
    "# note the NaN values from both left and right DataFrames\n",
    "df.merge(\n",
    "    df_veg_counts,\n",
    "    how='outer',\n",
    "    left_on='vegetables', right_index=True)"
   ]
  },
  {
   "cell_type": "code",
   "execution_count": null,
   "metadata": {
    "collapsed": true
   },
   "outputs": [],
   "source": [
    "# note no NaN values, only common keys are used to produce the result\n",
    "df.merge(\n",
    "    df_veg_counts,\n",
    "    how='inner',\n",
    "    left_on='vegetables', right_index=True)"
   ]
  },
  {
   "cell_type": "markdown",
   "metadata": {},
   "source": [
    "Applying merging in real data - OECD transport and greenhouse gas emission data. "
   ]
  },
  {
   "cell_type": "code",
   "execution_count": null,
   "metadata": {
    "collapsed": true
   },
   "outputs": [],
   "source": [
    "# Our previous file on population density.\n",
    "data_path = \"./data/wk6/ITF_GOODS_TRANSPORT_Data_fb8faed3-af67-457b-8387-8485f0ceea42.csv\"\n",
    "OECD_trs =  pd.read_csv(data_path)\n",
    "\n",
    "# Data on greenhous gas emissions.\n",
    "data_path = \"./data/wk6/AIR_GHG_Data_5f3eccd7-21db-4950-8390-2311d87476ee.csv\"\n",
    "OECD_ghg = pd.read_csv(data_path)\n",
    "\n",
    "OECD_trs.head()"
   ]
  },
  {
   "cell_type": "code",
   "execution_count": null,
   "metadata": {
    "collapsed": true
   },
   "outputs": [],
   "source": [
    "OECD_ghg.head()"
   ]
  },
  {
   "cell_type": "code",
   "execution_count": null,
   "metadata": {
    "collapsed": true
   },
   "outputs": [],
   "source": [
    "trs_years = pd.unique(OECD_trs['Year'])"
   ]
  },
  {
   "cell_type": "code",
   "execution_count": null,
   "metadata": {
    "collapsed": true
   },
   "outputs": [],
   "source": [
    "trs_years"
   ]
  },
  {
   "cell_type": "code",
   "execution_count": null,
   "metadata": {
    "collapsed": true
   },
   "outputs": [],
   "source": [
    "ghg_years = pd.unique(OECD_ghg['Year'])"
   ]
  },
  {
   "cell_type": "code",
   "execution_count": null,
   "metadata": {
    "collapsed": true
   },
   "outputs": [],
   "source": [
    "ghg_years"
   ]
  },
  {
   "cell_type": "markdown",
   "metadata": {},
   "source": [
    "##The years seem not to coincide. \n",
    "##We will use merge to get an intersection of years, and to filter for a specific country. \n"
   ]
  },
  {
   "cell_type": "code",
   "execution_count": null,
   "metadata": {
    "collapsed": true
   },
   "outputs": [],
   "source": [
    "Variable_types = pd.unique(OECD_trs['Variable'])"
   ]
  },
  {
   "cell_type": "code",
   "execution_count": null,
   "metadata": {
    "collapsed": true
   },
   "outputs": [],
   "source": [
    "Variable_types "
   ]
  },
  {
   "cell_type": "code",
   "execution_count": null,
   "metadata": {
    "collapsed": true
   },
   "outputs": [],
   "source": [
    "Country = 'Spain'\n",
    "\n",
    "# We filter the transport dataframe for a specific country.\n",
    "OECD_trs_Country = OECD_trs[OECD_trs['Country'] == Country]\n",
    "\n",
    "# the variable we are interested in is total freight.\n",
    "OECD_trs_Country = OECD_trs_Country[OECD_trs_Country['Variable'] == 'Total inland freight in million tonne-km']"
   ]
  },
  {
   "cell_type": "code",
   "execution_count": null,
   "metadata": {
    "collapsed": true
   },
   "outputs": [],
   "source": [
    "OECD_trs_Country"
   ]
  },
  {
   "cell_type": "code",
   "execution_count": null,
   "metadata": {
    "collapsed": true
   },
   "outputs": [],
   "source": [
    "Variable_types = pd.unique(OECD_ghg['Variable'])"
   ]
  },
  {
   "cell_type": "code",
   "execution_count": null,
   "metadata": {
    "collapsed": true
   },
   "outputs": [],
   "source": [
    "Variable_types"
   ]
  },
  {
   "cell_type": "markdown",
   "metadata": {},
   "source": [
    "We can merge the dataframes by both 'Year' and 'Country'. \n",
    "\n",
    "Both DataFrames contain columns called 'Year' and 'Country' , this enables to specify the names instead of specifying which column to join in each DataFrame. This is achieved by using the 'on' parameter. \n",
    "\n",
    "The 'Year' merge will ensure the intersection of years, and the 'Country' merge will ensure the result is intersected by the 'Country' variable since one dataframe was already filtered by it."
   ]
  },
  {
   "cell_type": "code",
   "execution_count": null,
   "metadata": {
    "collapsed": true
   },
   "outputs": [],
   "source": [
    "# Resetting the DataFrame to contain all countries \n",
    "OECD_ghg_Country = pd.DataFrame()\n",
    "OECD_ghg_Country = OECD_ghg[OECD_ghg['Variable'] == 'Total  emissions excluding LULUCF']\n",
    "OECD_ghg_Country = OECD_ghg_Country[OECD_ghg_Country['Pollutant'] == 'Carbon dioxide']\n",
    "\n",
    "# Merging by two variables.\n",
    "OECD_trs_ghg_Country = OECD_trs_Country.merge(\n",
    "    OECD_ghg_Country,\n",
    "    how='inner',\n",
    "    on=['Year','Country'])"
   ]
  },
  {
   "cell_type": "code",
   "execution_count": null,
   "metadata": {
    "collapsed": true
   },
   "outputs": [],
   "source": [
    "OECD_trs_ghg_Country"
   ]
  },
  {
   "cell_type": "markdown",
   "metadata": {},
   "source": [
    "Notice that Pandas created a DataFrame with columns such as 'value_x' and 'value_y', this is because in the both the original DataFrames there was a column named 'value' , therefore in the merged DataFrame Python puts the 'value' for the left DataFrame in 'value_x' and 'value' of the right DataFrame in 'value_y'."
   ]
  },
  {
   "cell_type": "code",
   "execution_count": null,
   "metadata": {
    "collapsed": true
   },
   "outputs": [],
   "source": [
    "# Creating a 'nice' DataFrame for plotting, etc.. \n",
    "\n",
    "OECD_trs_ghg_Filtered = pd.DataFrame()\n",
    "\n",
    "OECD_trs_ghg_Filtered['Road freight'] = OECD_trs_ghg_Country['Value_x']\n",
    "OECD_trs_ghg_Filtered['Carbon dioxide'] = OECD_trs_ghg_Country['Value_y']\n",
    "\n",
    "OECD_trs_ghg_Filtered = OECD_trs_ghg_Filtered.set_index(OECD_trs_ghg_Country['Year'])"
   ]
  },
  {
   "cell_type": "code",
   "execution_count": null,
   "metadata": {
    "collapsed": true
   },
   "outputs": [],
   "source": [
    "OECD_trs_ghg_Filtered"
   ]
  },
  {
   "cell_type": "code",
   "execution_count": null,
   "metadata": {
    "collapsed": true
   },
   "outputs": [],
   "source": [
    "OECD_trs_ghg_Filtered.plot(legend = True)\n",
    "ylabel('Absolute value')"
   ]
  },
  {
   "cell_type": "code",
   "execution_count": null,
   "metadata": {
    "collapsed": true
   },
   "outputs": [],
   "source": [
    "OECD_trs_ghg_Filtered_Pct = OECD_trs_ghg_Filtered.pct_change()\n",
    "\n",
    "OECD_trs_ghg_Filtered_Pct = OECD_trs_ghg_Filtered_Pct.replace('NaN','0', regex=True).astype('float')\n",
    "OECD_trs_ghg_Filtered_Pct\n",
    "OECD_trs_ghg_Filtered_Pct.plot(legend = True)\n",
    "ylabel('Percent change')"
   ]
  },
  {
   "cell_type": "markdown",
   "metadata": {},
   "source": [
    "### Question :\n",
    "Can you see any pattern in the data? Can you conclude anything?"
   ]
  },
  {
   "cell_type": "code",
   "execution_count": null,
   "metadata": {
    "collapsed": true
   },
   "outputs": [],
   "source": []
  },
  {
   "cell_type": "markdown",
   "metadata": {},
   "source": [
    "## Exercise:\n",
    "\n",
    "1. Choose two countries from the OECD, and choose a variable from each DataFrame that you would like to compare. \n",
    "2. Use merge to create the DataFrames for each country.\n",
    "3. Plot absolute values, percent changes, means, medians. Compare the results, see if anything can be concluded. \n",
    "4. More advanced : Create an empty DataFrame whose index represents a range of years to investigate. (maybe a narrower range than the instersection of year ranges from each data set.) Use a merge operation to create the DataFrames for each country. \n"
   ]
  },
  {
   "cell_type": "code",
   "execution_count": null,
   "metadata": {
    "collapsed": true
   },
   "outputs": [],
   "source": []
  }
 ],
 "metadata": {
  "kernelspec": {
   "display_name": "Python 2",
   "language": "python",
   "name": "python2"
  },
  "language_info": {
   "codemirror_mode": {
    "name": "ipython",
    "version": 2
   },
   "file_extension": ".py",
   "mimetype": "text/x-python",
   "name": "python",
   "nbconvert_exporter": "python",
   "pygments_lexer": "ipython2",
   "version": "2.7.11"
  }
 },
 "nbformat": 4,
 "nbformat_minor": 1
}
