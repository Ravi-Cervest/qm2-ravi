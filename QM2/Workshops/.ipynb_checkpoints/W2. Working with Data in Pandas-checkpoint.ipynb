{
 "cells": [
  {
   "cell_type": "markdown",
   "metadata": {},
   "source": [
    "## Quantitative Methods 2: Data Science and Visualisation\n",
    "\n",
    "## Workshop 2: Working With Data In Pandas\n",
    "In this workshop, our aim is to get used to working with more complex data that we've imported from external files. We'll start to graph it, and to slice and dice it, to select the bits we're interested in.\n",
    "\n",
    "We will work with *pandas* to manipulate the data, and to derive measures and graphs that tell us a bit more than what the source data files tell us.\n",
    "\n",
    "### Aims\n",
    "\n",
    "- Learn to import data to python using pandas\n",
    "- Learn how access specific rows, columns and cells\n",
    "- Plot the data\n",
    "- Tidy up graphs to include axes"
   ]
  },
  {
   "cell_type": "markdown",
   "metadata": {},
   "source": [
    "## Introduction\n",
    "\n",
    "We are going to work with some UK income data. The income data is packaged as a .csv file. The Pandas package knows how to handle this and put the data in a DataFrame, as we've seen. Let's examine the data and start to see what we can say about it. First of all, we have to find data - I'm interested in looking in data with a wide spread, so I looked for data on income in the UK. \n",
    "\n",
    "This data is collected by the Office for National Statistics(ONS) : http://www.ons.gov.uk/ons/datasets-and-tables/index.html?pageSize=50&sortBy=none&sortDirection=none&newquery=income+percentile - but the exact data I want to see, income by percentile, is tricky to find. \n",
    "\n",
    "I ended up using data from 2011, generated from a study called the Family Resources Survey and collated and tweaked by an independent research unit called the Institute of Fiscal Studies (IFS). The \"tweaking\" they do tends to be around the size of the family unit, and other factors which create economies of scale - hence they \"equivalise\" it. The IFS is quoted in UK Government documents, so we can have some trust in their impartiality, or at least accuracy - of course, if we were publishing research about this, that's not really good enough and we'd want to reproduce, or at least understand and critique, their methodology rather than just trusting it!\n",
    "\n",
    "e.g.:\n",
    "\n",
    "http://www.ifs.org.uk/wheredoyoufitin/about.php\n",
    "\n",
    "https://en.wikipedia.org/wiki/Equivalisation"
   ]
  },
  {
   "cell_type": "markdown",
   "metadata": {},
   "source": [
    "## Downloading the Data\n",
    "\n",
    "Let's grab our income data from our course website and save it into our data folder.  If you've not already created a data folder then do so using the following command.  Don't worry if it generates an error, that means you've already got a data folder.\n"
   ]
  },
  {
   "cell_type": "code",
   "execution_count": 1,
   "metadata": {},
   "outputs": [
    {
     "name": "stdout",
     "output_type": "stream",
     "text": [
      "mkdir: cannot create directory ‘data’: File exists\r\n"
     ]
    }
   ],
   "source": [
    "!mkdir data"
   ]
  },
  {
   "cell_type": "code",
   "execution_count": 2,
   "metadata": {},
   "outputs": [
    {
     "name": "stdout",
     "output_type": "stream",
     "text": [
      "  % Total    % Received % Xferd  Average Speed   Time    Time     Time  Current\n",
      "                                 Dload  Upload   Total   Spent    Left  Speed\n",
      "100 15154  100 15154    0     0  40627      0 --:--:-- --:--:-- --:--:-- 40518\n"
     ]
    }
   ],
   "source": [
    "!mkdir data/wk2\n",
    "!curl https://s3.eu-west-2.amazonaws.com/qm2/wk2/incomes.csv -o ./data/wk2/incomes.csv"
   ]
  },
  {
   "cell_type": "markdown",
   "metadata": {},
   "source": [
    "      "
   ]
  },
  {
   "cell_type": "code",
   "execution_count": 3,
   "metadata": {},
   "outputs": [],
   "source": [
    "import pandas\n",
    "import pylab\n",
    "import matplotlib.pyplot as plt\n",
    "# make the plots a little wider by default\n",
    "%matplotlib inline\n",
    "plt.style.use('ggplot')\n",
    "\n",
    "pylab.rcParams['figure.figsize'] = (10., 8.)"
   ]
  },
  {
   "cell_type": "code",
   "execution_count": 4,
   "metadata": {},
   "outputs": [
    {
     "data": {
      "text/html": [
       "<div>\n",
       "<style scoped>\n",
       "    .dataframe tbody tr th:only-of-type {\n",
       "        vertical-align: middle;\n",
       "    }\n",
       "\n",
       "    .dataframe tbody tr th {\n",
       "        vertical-align: top;\n",
       "    }\n",
       "\n",
       "    .dataframe thead th {\n",
       "        text-align: right;\n",
       "    }\n",
       "</style>\n",
       "<table border=\"1\" class=\"dataframe\">\n",
       "  <thead>\n",
       "    <tr style=\"text-align: right;\">\n",
       "      <th></th>\n",
       "      <th>Net equivalised household income in 2010-11, week</th>\n",
       "      <th>Childless couple, annual income</th>\n",
       "      <th>Couple, two children under 14</th>\n",
       "      <th>Couple, three children under 14</th>\n",
       "      <th>Couple with one child under 14</th>\n",
       "      <th>Couple with two children aged 15 to 18</th>\n",
       "      <th>Couple, two children under 14 plus dependent adult</th>\n",
       "      <th>Single adult</th>\n",
       "      <th>Lone parent, one child under 14</th>\n",
       "      <th>Lone parent, two children under 14</th>\n",
       "      <th>Lone parent, two children aged 15-18</th>\n",
       "      <th>ANNOTATIONS</th>\n",
       "      <th>1979 to 1996-97</th>\n",
       "      <th>1996-97 to 2009-10</th>\n",
       "      <th>1996-97 to 2010-11</th>\n",
       "    </tr>\n",
       "    <tr>\n",
       "      <th>Percentile Point</th>\n",
       "      <th></th>\n",
       "      <th></th>\n",
       "      <th></th>\n",
       "      <th></th>\n",
       "      <th></th>\n",
       "      <th></th>\n",
       "      <th></th>\n",
       "      <th></th>\n",
       "      <th></th>\n",
       "      <th></th>\n",
       "      <th></th>\n",
       "      <th></th>\n",
       "      <th></th>\n",
       "      <th></th>\n",
       "      <th></th>\n",
       "    </tr>\n",
       "  </thead>\n",
       "  <tbody>\n",
       "    <tr>\n",
       "      <th>1</th>\n",
       "      <td>33.50</td>\n",
       "      <td>1,746.92</td>\n",
       "      <td>2,445.69</td>\n",
       "      <td>2,795.08</td>\n",
       "      <td>2,096.31</td>\n",
       "      <td>2,899.89</td>\n",
       "      <td>3,022.18</td>\n",
       "      <td>1,170.44</td>\n",
       "      <td>1,519.82</td>\n",
       "      <td>1,869.21</td>\n",
       "      <td>2,323.41</td>\n",
       "      <td>NaN</td>\n",
       "      <td>NaN</td>\n",
       "      <td>NaN</td>\n",
       "      <td>NaN</td>\n",
       "    </tr>\n",
       "    <tr>\n",
       "      <th>2</th>\n",
       "      <td>98.60</td>\n",
       "      <td>5,141.01</td>\n",
       "      <td>7,197.41</td>\n",
       "      <td>8,225.61</td>\n",
       "      <td>6,169.21</td>\n",
       "      <td>8,534.07</td>\n",
       "      <td>8,893.95</td>\n",
       "      <td>3,444.48</td>\n",
       "      <td>4,472.68</td>\n",
       "      <td>5,500.88</td>\n",
       "      <td>6,837.54</td>\n",
       "      <td>NaN</td>\n",
       "      <td>-0.20%</td>\n",
       "      <td>-1.30%</td>\n",
       "      <td>-0.50%</td>\n",
       "    </tr>\n",
       "    <tr>\n",
       "      <th>3</th>\n",
       "      <td>128.56</td>\n",
       "      <td>6,703.11</td>\n",
       "      <td>9,384.36</td>\n",
       "      <td>10,724.98</td>\n",
       "      <td>8,043.74</td>\n",
       "      <td>11,127.17</td>\n",
       "      <td>11,596.39</td>\n",
       "      <td>4,491.09</td>\n",
       "      <td>5,831.71</td>\n",
       "      <td>7,172.33</td>\n",
       "      <td>8,915.14</td>\n",
       "      <td>NaN</td>\n",
       "      <td>0.40%</td>\n",
       "      <td>0.10%</td>\n",
       "      <td>0.10%</td>\n",
       "    </tr>\n",
       "    <tr>\n",
       "      <th>4</th>\n",
       "      <td>151.05</td>\n",
       "      <td>7,875.75</td>\n",
       "      <td>11,026.05</td>\n",
       "      <td>12,601.20</td>\n",
       "      <td>9,450.90</td>\n",
       "      <td>13,073.75</td>\n",
       "      <td>13,625.05</td>\n",
       "      <td>5,276.75</td>\n",
       "      <td>6,851.90</td>\n",
       "      <td>8,427.05</td>\n",
       "      <td>10,474.75</td>\n",
       "      <td>NaN</td>\n",
       "      <td>0.50%</td>\n",
       "      <td>0.80%</td>\n",
       "      <td>0.60%</td>\n",
       "    </tr>\n",
       "    <tr>\n",
       "      <th>5</th>\n",
       "      <td>166.32</td>\n",
       "      <td>8,671.91</td>\n",
       "      <td>12,140.68</td>\n",
       "      <td>13,875.06</td>\n",
       "      <td>10,406.30</td>\n",
       "      <td>14,395.38</td>\n",
       "      <td>15,002.41</td>\n",
       "      <td>5,810.18</td>\n",
       "      <td>7,544.57</td>\n",
       "      <td>9,278.95</td>\n",
       "      <td>11,533.65</td>\n",
       "      <td>NaN</td>\n",
       "      <td>0.70%</td>\n",
       "      <td>1.00%</td>\n",
       "      <td>0.90%</td>\n",
       "    </tr>\n",
       "  </tbody>\n",
       "</table>\n",
       "</div>"
      ],
      "text/plain": [
       "                  Net equivalised household income in 2010-11, week  \\\n",
       "Percentile Point                                                      \n",
       "1                                                             33.50   \n",
       "2                                                             98.60   \n",
       "3                                                            128.56   \n",
       "4                                                            151.05   \n",
       "5                                                            166.32   \n",
       "\n",
       "                 Childless couple, annual income  \\\n",
       "Percentile Point                                   \n",
       "1                                       1,746.92   \n",
       "2                                       5,141.01   \n",
       "3                                       6,703.11   \n",
       "4                                       7,875.75   \n",
       "5                                       8,671.91   \n",
       "\n",
       "                 Couple, two children under 14  \\\n",
       "Percentile Point                                 \n",
       "1                                     2,445.69   \n",
       "2                                     7,197.41   \n",
       "3                                     9,384.36   \n",
       "4                                    11,026.05   \n",
       "5                                    12,140.68   \n",
       "\n",
       "                 Couple, three children under 14  \\\n",
       "Percentile Point                                   \n",
       "1                                       2,795.08   \n",
       "2                                       8,225.61   \n",
       "3                                      10,724.98   \n",
       "4                                      12,601.20   \n",
       "5                                      13,875.06   \n",
       "\n",
       "                 Couple with one child under 14  \\\n",
       "Percentile Point                                  \n",
       "1                                      2,096.31   \n",
       "2                                      6,169.21   \n",
       "3                                      8,043.74   \n",
       "4                                      9,450.90   \n",
       "5                                     10,406.30   \n",
       "\n",
       "                 Couple with two children aged 15 to 18  \\\n",
       "Percentile Point                                          \n",
       "1                                              2,899.89   \n",
       "2                                              8,534.07   \n",
       "3                                             11,127.17   \n",
       "4                                             13,073.75   \n",
       "5                                             14,395.38   \n",
       "\n",
       "                 Couple, two children under 14 plus dependent adult  \\\n",
       "Percentile Point                                                      \n",
       "1                                                          3,022.18   \n",
       "2                                                          8,893.95   \n",
       "3                                                         11,596.39   \n",
       "4                                                         13,625.05   \n",
       "5                                                         15,002.41   \n",
       "\n",
       "                 Single adult Lone parent, one child under 14  \\\n",
       "Percentile Point                                                \n",
       "1                    1,170.44                        1,519.82   \n",
       "2                    3,444.48                        4,472.68   \n",
       "3                    4,491.09                        5,831.71   \n",
       "4                    5,276.75                        6,851.90   \n",
       "5                    5,810.18                        7,544.57   \n",
       "\n",
       "                 Lone parent, two children under 14  \\\n",
       "Percentile Point                                      \n",
       "1                                          1,869.21   \n",
       "2                                          5,500.88   \n",
       "3                                          7,172.33   \n",
       "4                                          8,427.05   \n",
       "5                                          9,278.95   \n",
       "\n",
       "                 Lone parent, two children aged 15-18 ANNOTATIONS  \\\n",
       "Percentile Point                                                    \n",
       "1                                            2,323.41         NaN   \n",
       "2                                            6,837.54         NaN   \n",
       "3                                            8,915.14         NaN   \n",
       "4                                           10,474.75         NaN   \n",
       "5                                           11,533.65         NaN   \n",
       "\n",
       "                 1979 to 1996-97 1996-97 to 2009-10 1996-97 to 2010-11  \n",
       "Percentile Point                                                        \n",
       "1                            NaN                NaN                NaN  \n",
       "2                         -0.20%             -1.30%             -0.50%  \n",
       "3                          0.40%              0.10%              0.10%  \n",
       "4                          0.50%              0.80%              0.60%  \n",
       "5                          0.70%              1.00%              0.90%  "
      ]
     },
     "execution_count": 4,
     "metadata": {},
     "output_type": "execute_result"
    }
   ],
   "source": [
    "data_path = \"./data/wk2/incomes.csv\"\n",
    "\n",
    "income =  pandas.read_csv(data_path, index_col=0)\n",
    "income.head()"
   ]
  },
  {
   "cell_type": "markdown",
   "metadata": {},
   "source": [
    "This is a simple dataframe - we see the percentile and an income. Note that I've told pandas to use the first column (the Percentile) as the index to make life easier.\n",
    "\n",
    "The percentile tells us how people on that income rank - so the final category, 99% (which is really binned, so 99%<n$\\leq$ 100%), is telling us how much \"the 1%\" earn. Let's find out:"
   ]
  },
  {
   "cell_type": "code",
   "execution_count": 5,
   "metadata": {},
   "outputs": [
    {
     "data": {
      "text/html": [
       "<div>\n",
       "<style scoped>\n",
       "    .dataframe tbody tr th:only-of-type {\n",
       "        vertical-align: middle;\n",
       "    }\n",
       "\n",
       "    .dataframe tbody tr th {\n",
       "        vertical-align: top;\n",
       "    }\n",
       "\n",
       "    .dataframe thead th {\n",
       "        text-align: right;\n",
       "    }\n",
       "</style>\n",
       "<table border=\"1\" class=\"dataframe\">\n",
       "  <thead>\n",
       "    <tr style=\"text-align: right;\">\n",
       "      <th></th>\n",
       "      <th>Net equivalised household income in 2010-11, week</th>\n",
       "      <th>Childless couple, annual income</th>\n",
       "      <th>Couple, two children under 14</th>\n",
       "      <th>Couple, three children under 14</th>\n",
       "      <th>Couple with one child under 14</th>\n",
       "      <th>Couple with two children aged 15 to 18</th>\n",
       "      <th>Couple, two children under 14 plus dependent adult</th>\n",
       "      <th>Single adult</th>\n",
       "      <th>Lone parent, one child under 14</th>\n",
       "      <th>Lone parent, two children under 14</th>\n",
       "      <th>Lone parent, two children aged 15-18</th>\n",
       "      <th>ANNOTATIONS</th>\n",
       "      <th>1979 to 1996-97</th>\n",
       "      <th>1996-97 to 2009-10</th>\n",
       "      <th>1996-97 to 2010-11</th>\n",
       "    </tr>\n",
       "    <tr>\n",
       "      <th>Percentile Point</th>\n",
       "      <th></th>\n",
       "      <th></th>\n",
       "      <th></th>\n",
       "      <th></th>\n",
       "      <th></th>\n",
       "      <th></th>\n",
       "      <th></th>\n",
       "      <th></th>\n",
       "      <th></th>\n",
       "      <th></th>\n",
       "      <th></th>\n",
       "      <th></th>\n",
       "      <th></th>\n",
       "      <th></th>\n",
       "      <th></th>\n",
       "    </tr>\n",
       "  </thead>\n",
       "  <tbody>\n",
       "    <tr>\n",
       "      <th>95</th>\n",
       "      <td>1075.73</td>\n",
       "      <td>56,088.56</td>\n",
       "      <td>78,523.99</td>\n",
       "      <td>89,741.70</td>\n",
       "      <td>67,306.27</td>\n",
       "      <td>93,107.01</td>\n",
       "      <td>97,033.21</td>\n",
       "      <td>37,579.34</td>\n",
       "      <td>48,797.05</td>\n",
       "      <td>60,014.76</td>\n",
       "      <td>74,597.79</td>\n",
       "      <td>NaN</td>\n",
       "      <td>2.90%</td>\n",
       "      <td>2.00%</td>\n",
       "      <td>1.30%</td>\n",
       "    </tr>\n",
       "    <tr>\n",
       "      <th>96</th>\n",
       "      <td>1174.48</td>\n",
       "      <td>61,237.18</td>\n",
       "      <td>85,732.05</td>\n",
       "      <td>97,979.49</td>\n",
       "      <td>73,484.61</td>\n",
       "      <td>101,653.72</td>\n",
       "      <td>105,940.32</td>\n",
       "      <td>41,028.91</td>\n",
       "      <td>53,276.35</td>\n",
       "      <td>65,523.78</td>\n",
       "      <td>81,445.45</td>\n",
       "      <td>NaN</td>\n",
       "      <td>3.00%</td>\n",
       "      <td>2.00%</td>\n",
       "      <td>1.40%</td>\n",
       "    </tr>\n",
       "    <tr>\n",
       "      <th>97</th>\n",
       "      <td>1302.74</td>\n",
       "      <td>67,925.07</td>\n",
       "      <td>95,095.10</td>\n",
       "      <td>108,680.12</td>\n",
       "      <td>81,510.09</td>\n",
       "      <td>112,755.62</td>\n",
       "      <td>117,510.37</td>\n",
       "      <td>45,509.80</td>\n",
       "      <td>59,094.81</td>\n",
       "      <td>72,679.83</td>\n",
       "      <td>90,340.35</td>\n",
       "      <td>NaN</td>\n",
       "      <td>3.20%</td>\n",
       "      <td>2.20%</td>\n",
       "      <td>1.60%</td>\n",
       "    </tr>\n",
       "    <tr>\n",
       "      <th>98</th>\n",
       "      <td>1523.31</td>\n",
       "      <td>79,425.23</td>\n",
       "      <td>111,195.32</td>\n",
       "      <td>127,080.36</td>\n",
       "      <td>95,310.27</td>\n",
       "      <td>131,845.88</td>\n",
       "      <td>137,405.64</td>\n",
       "      <td>53,214.90</td>\n",
       "      <td>69,099.95</td>\n",
       "      <td>84,984.99</td>\n",
       "      <td>105,635.55</td>\n",
       "      <td>NaN</td>\n",
       "      <td>3.20%</td>\n",
       "      <td>2.70%</td>\n",
       "      <td>1.70%</td>\n",
       "    </tr>\n",
       "    <tr>\n",
       "      <th>99</th>\n",
       "      <td>2090.35</td>\n",
       "      <td>108,990.74</td>\n",
       "      <td>152,587.04</td>\n",
       "      <td>174,385.19</td>\n",
       "      <td>130,788.89</td>\n",
       "      <td>180,924.64</td>\n",
       "      <td>188,553.99</td>\n",
       "      <td>73,023.80</td>\n",
       "      <td>94,821.95</td>\n",
       "      <td>116,620.10</td>\n",
       "      <td>144,957.69</td>\n",
       "      <td>NaN</td>\n",
       "      <td>NaN</td>\n",
       "      <td>NaN</td>\n",
       "      <td>NaN</td>\n",
       "    </tr>\n",
       "  </tbody>\n",
       "</table>\n",
       "</div>"
      ],
      "text/plain": [
       "                  Net equivalised household income in 2010-11, week  \\\n",
       "Percentile Point                                                      \n",
       "95                                                          1075.73   \n",
       "96                                                          1174.48   \n",
       "97                                                          1302.74   \n",
       "98                                                          1523.31   \n",
       "99                                                          2090.35   \n",
       "\n",
       "                 Childless couple, annual income  \\\n",
       "Percentile Point                                   \n",
       "95                                     56,088.56   \n",
       "96                                     61,237.18   \n",
       "97                                     67,925.07   \n",
       "98                                     79,425.23   \n",
       "99                                    108,990.74   \n",
       "\n",
       "                 Couple, two children under 14  \\\n",
       "Percentile Point                                 \n",
       "95                                   78,523.99   \n",
       "96                                   85,732.05   \n",
       "97                                   95,095.10   \n",
       "98                                  111,195.32   \n",
       "99                                  152,587.04   \n",
       "\n",
       "                 Couple, three children under 14  \\\n",
       "Percentile Point                                   \n",
       "95                                     89,741.70   \n",
       "96                                     97,979.49   \n",
       "97                                    108,680.12   \n",
       "98                                    127,080.36   \n",
       "99                                    174,385.19   \n",
       "\n",
       "                 Couple with one child under 14  \\\n",
       "Percentile Point                                  \n",
       "95                                    67,306.27   \n",
       "96                                    73,484.61   \n",
       "97                                    81,510.09   \n",
       "98                                    95,310.27   \n",
       "99                                   130,788.89   \n",
       "\n",
       "                 Couple with two children aged 15 to 18  \\\n",
       "Percentile Point                                          \n",
       "95                                            93,107.01   \n",
       "96                                           101,653.72   \n",
       "97                                           112,755.62   \n",
       "98                                           131,845.88   \n",
       "99                                           180,924.64   \n",
       "\n",
       "                 Couple, two children under 14 plus dependent adult  \\\n",
       "Percentile Point                                                      \n",
       "95                                                        97,033.21   \n",
       "96                                                       105,940.32   \n",
       "97                                                       117,510.37   \n",
       "98                                                       137,405.64   \n",
       "99                                                       188,553.99   \n",
       "\n",
       "                 Single adult Lone parent, one child under 14  \\\n",
       "Percentile Point                                                \n",
       "95                  37,579.34                       48,797.05   \n",
       "96                  41,028.91                       53,276.35   \n",
       "97                  45,509.80                       59,094.81   \n",
       "98                  53,214.90                       69,099.95   \n",
       "99                  73,023.80                       94,821.95   \n",
       "\n",
       "                 Lone parent, two children under 14  \\\n",
       "Percentile Point                                      \n",
       "95                                        60,014.76   \n",
       "96                                        65,523.78   \n",
       "97                                        72,679.83   \n",
       "98                                        84,984.99   \n",
       "99                                       116,620.10   \n",
       "\n",
       "                 Lone parent, two children aged 15-18 ANNOTATIONS  \\\n",
       "Percentile Point                                                    \n",
       "95                                          74,597.79         NaN   \n",
       "96                                          81,445.45         NaN   \n",
       "97                                          90,340.35         NaN   \n",
       "98                                         105,635.55         NaN   \n",
       "99                                         144,957.69         NaN   \n",
       "\n",
       "                 1979 to 1996-97 1996-97 to 2009-10 1996-97 to 2010-11  \n",
       "Percentile Point                                                        \n",
       "95                         2.90%              2.00%              1.30%  \n",
       "96                         3.00%              2.00%              1.40%  \n",
       "97                         3.20%              2.20%              1.60%  \n",
       "98                         3.20%              2.70%              1.70%  \n",
       "99                           NaN                NaN                NaN  "
      ]
     },
     "execution_count": 5,
     "metadata": {},
     "output_type": "execute_result"
    }
   ],
   "source": [
    "income.tail()"
   ]
  },
  {
   "cell_type": "markdown",
   "metadata": {},
   "source": [
    "Well, they we have it - the 1% earn, on average, about £2000 a week. How does that compare to people in the 90% decile? We can access particular *rows* in a dataframe using **.loc[row index]**; because our index is the percentile point, we can just read it off:"
   ]
  },
  {
   "cell_type": "code",
   "execution_count": null,
   "metadata": {
    "collapsed": true
   },
   "outputs": [],
   "source": [
    "income.loc[90]"
   ]
  },
  {
   "cell_type": "markdown",
   "metadata": {},
   "source": [
    "We can also select a range of values with the \"colon\" notation. This will select the 90-95th percentiles, for example:"
   ]
  },
  {
   "cell_type": "code",
   "execution_count": null,
   "metadata": {
    "collapsed": true
   },
   "outputs": [],
   "source": [
    "income.loc[90:95]"
   ]
  },
  {
   "cell_type": "markdown",
   "metadata": {},
   "source": [
    "## Accessing parts of a dataframe\n",
    "\n",
    "If we want to extract the actual value instead of just the whole row, we need to reference the *column* as well as the row. In pandas, columns are referenced by **column name**:"
   ]
  },
  {
   "cell_type": "code",
   "execution_count": null,
   "metadata": {
    "collapsed": true
   },
   "outputs": [],
   "source": [
    "income['Net equivalised household income in 2010-11, week']"
   ]
  },
  {
   "cell_type": "markdown",
   "metadata": {},
   "source": [
    "So, to access a particular cell, we tell Python the row and the column (this is pretty simple - the same way we tell excel to access cell \"A34\" meaning Column A, Row 34). One way we do that in pandas is to select the column, and then use .loc[] on the index."
   ]
  },
  {
   "cell_type": "code",
   "execution_count": null,
   "metadata": {
    "collapsed": true
   },
   "outputs": [],
   "source": [
    "income['Net equivalised household income in 2010-11, week'].loc[90]"
   ]
  },
  {
   "cell_type": "markdown",
   "metadata": {},
   "source": [
    "We've accessed row 90 of the column called 'Net equivalised household income in 2010-11, week'; can we access the data the other way around - can we first take the row and then specify a column? Let's try:"
   ]
  },
  {
   "cell_type": "code",
   "execution_count": null,
   "metadata": {
    "collapsed": true
   },
   "outputs": [],
   "source": [
    "income.loc[90]['Net equivalised household income in 2010-11, week']"
   ]
  },
  {
   "cell_type": "markdown",
   "metadata": {},
   "source": [
    "Yes, this seems to be working fine."
   ]
  },
  {
   "cell_type": "markdown",
   "metadata": {},
   "source": [
    "### Extension\n",
    "\n",
    "The reason for this is that selecting the column spits out a smaller dataframe, and all dataframes use  \"loc\", so we can use that. Another way to do this would be to use an explicit variable for the dataframe, along the lines of:\n",
    "\n",
    "`smallDataFrame = income['Net equivalised household income in 2010-11, week']`  \n",
    "`smallDataFrame.loc[90]`\n",
    "\n",
    "by doing income\n",
    "\n",
    "`['Net equivalised household income in 2010-11, week'].loc[90]`   \n",
    "\n",
    "we're taking the \"smallDataFrame\" object as an implicit (or hidden) output"
   ]
  },
  {
   "cell_type": "markdown",
   "metadata": {},
   "source": [
    "If we want to look at a few rows of data, we can use a range:"
   ]
  },
  {
   "cell_type": "code",
   "execution_count": null,
   "metadata": {
    "collapsed": true
   },
   "outputs": [],
   "source": [
    "income['Net equivalised household income in 2010-11, week'].loc[90:95]"
   ]
  },
  {
   "cell_type": "markdown",
   "metadata": {},
   "source": [
    "So, to recap, we can now access a particular **row** using *loc[index number]*, a particular **column** with the square brackets formalism *dataframename['column name']*, or both *dataframename['column name']loc[index number]*. We've made a start at being able to get to the bits of data we need."
   ]
  },
  {
   "cell_type": "markdown",
   "metadata": {},
   "source": [
    "## Exercise: \n",
    "    \n",
    "How do the equivalised incomes of single adults and childless couples compare? Look at the 1st, 99th and 50th percentile and summarise what this tells you about the value or price of coupling."
   ]
  },
  {
   "cell_type": "markdown",
   "metadata": {},
   "source": [
    "## Examining the Distribution\n",
    "\n",
    "Returning to the overall statistics, the 90% percentile earns less than half the top percentile (\"the 1%\"); if you're taking home over £800 as a household, you're in the top 10% of earners.\n",
    "\n",
    "How does \n",
    "1. The income of \"the 1%\" compare with the mean and median across the population, as a proportion? \n",
    "2. How does the 1% compare with the 90th percentile (the 10%)? \n",
    "3. How does the 10% compare with the median and mean?"
   ]
  },
  {
   "cell_type": "markdown",
   "metadata": {},
   "source": [
    "The 1% earn about 60 times the poorest groups in society - and we've made other comparisons. But that's not the whole story. Let's look at the income graph. \n",
    "\n",
    "In pandas, we can plot this fairly easily..."
   ]
  },
  {
   "cell_type": "code",
   "execution_count": null,
   "metadata": {
    "collapsed": true
   },
   "outputs": [],
   "source": [
    "income['Net equivalised household income in 2010-11, week'].plot()\n",
    "plt.title('UK Net Equivalised Income by Percentile per week, 2010-11')\n",
    "plt.xlabel('Income Percentile')\n",
    "plt.ylabel('Income (Net, Equivalised) [GBP]')"
   ]
  },
  {
   "cell_type": "markdown",
   "metadata": {},
   "source": [
    "We see a curve that is pretty linear in the middle region, but curves rapidly upwards in the higher percentile and looks more like a power law."
   ]
  },
  {
   "cell_type": "markdown",
   "metadata": {},
   "source": [
    "### Exercise: Means\n",
    "\n",
    "Where does the mean appear here? Draw in a horizontal line to show the mean using **axhline**. Show the median on the same graph. What is the meaning of the median in this context?\n",
    "\n",
    "Hint: Recall that last time we used *axvline* to highlight the mean and standard deviation by drawing vertical lines on the axis. Here, we use *axhline* to draw horizontal lines."
   ]
  },
  {
   "cell_type": "markdown",
   "metadata": {},
   "source": [
    "### Extension: Accessing cells\n",
    "\n",
    "There are a number of ways to access elements of the dataframe: we've shown how to access columns by the [*'name of column'*] method, and rows via the .loc[*index*] method; and how we can select a range. There are also .iloc methods to select by number rather than name; you should become familiar with these on the documentation page for pandas."
   ]
  },
  {
   "cell_type": "markdown",
   "metadata": {},
   "source": [
    "## Comparing segments\n",
    "\n",
    "Earlier, we compared some summary statistics of single people and couples. Let's look at the wider curve for more than one group, now:"
   ]
  },
  {
   "cell_type": "code",
   "execution_count": null,
   "metadata": {
    "collapsed": true
   },
   "outputs": [],
   "source": [
    "#This is going to throw a load of errors\n",
    "income[['Single adult','Lone parent, one child under 14']].plot()"
   ]
  },
  {
   "cell_type": "markdown",
   "metadata": {},
   "source": [
    "## Warning \n",
    "\n",
    "This isn't looking good. There's a load of text and no graph. If you've not seen this before, it's an error - something has gone wrong. Generally, if we look at the **final** line, it should tell us what's wrong, in this case there's \"no numeric data to plot\", which is weird, because we've seen the data and have even plotted some of it."
   ]
  },
  {
   "cell_type": "markdown",
   "metadata": {},
   "source": [
    "## Messy Data\n",
    "\n",
    "DataFrames, as we are starting to see, give us the chance to plot, chop, slice and data to help us make sense of it. Here, we will create a **new** DataFrame to take only two columns of data, and get rid of any blank cells and any cells which are not being read as numbers - normally a sign of a missing value or a non-numerical character. Why could this be happening? It could be \n",
    "\n",
    "- due to blank spaces in the text file\n",
    "\n",
    "- due to letters where there should be numbers\n",
    "\n",
    "- due to characters (\",\", \"-\", etc) that shouldn't really be there\n",
    "\n",
    "In general, there will be some detective work required to figure out what's wrong in our text file. Your best bet is sometimes to open up the data in a text editor, like I've done here:"
   ]
  },
  {
   "cell_type": "code",
   "execution_count": null,
   "metadata": {
    "collapsed": true
   },
   "outputs": [],
   "source": [
    "from IPython.display import Image\n",
    "\n",
    "data_path = \"https://s3.eu-west-2.amazonaws.com/qm2/wk2/data.png\"\n",
    "Image(data_path)"
   ]
  },
  {
   "cell_type": "markdown",
   "metadata": {},
   "source": [
    "That's a screenshot of our datafile, opened up in a text editor. As we can see, these numbers are separated by commas and surrounded by quotation marks - this is normal, and what .csv files are supposed to look like. However, there are a lot of commas within the numbers - which makes it easier for people to read, but confuses software. Luckily, Python has a method for dealing with this - the \"replace\" method. \n",
    "\n",
    "Unfortunately, this dataframe is quite messy, so I'm going to have to extract just the columns of data I'm interested in to make it work. I'll do that by creating a new dataframe:"
   ]
  },
  {
   "cell_type": "markdown",
   "metadata": {},
   "source": [
    "## Example: Cleaning data"
   ]
  },
  {
   "cell_type": "code",
   "execution_count": null,
   "metadata": {
    "collapsed": true
   },
   "outputs": [],
   "source": [
    "clean = income[['Childless couple, annual income','Couple, two children under 14']]\n",
    "clean.head()"
   ]
  },
  {
   "cell_type": "markdown",
   "metadata": {},
   "source": [
    "We see those pesky commas. Now we can get on with cleaning up the data:"
   ]
  },
  {
   "cell_type": "code",
   "execution_count": null,
   "metadata": {
    "collapsed": true
   },
   "outputs": [],
   "source": [
    "clean=clean.replace(',', '', regex=True)\n",
    "\n",
    "# In addition, missing values are sometimes written as '-', in order for Python to understand that it is just a missing numerical \n",
    "# value, all '-' need to be replaced with 'NaN'.\n",
    "clean = clean.replace('-', 'NaN', regex=True).astype('float')\n",
    "clean.head()"
   ]
  },
  {
   "cell_type": "markdown",
   "metadata": {},
   "source": [
    "**Extension**: \"**Regex**\" refers to \"**Reg**ular **Ex**pression\", which is a way of replacing and cleaning text. It's a bit beyond the scope of this class, but worth looking into if you're interested in programming more widely."
   ]
  },
  {
   "cell_type": "markdown",
   "metadata": {},
   "source": [
    "This seems to have done the job. We've also put a line in the code to get rid of dashes - a way that data collectors will sometimes represent missing data. Now let's plot this."
   ]
  },
  {
   "cell_type": "markdown",
   "metadata": {},
   "source": [
    "## Asking more questions of the data\n",
    "For me, this data starts to beg further questions. How would we answer these?\n",
    "\n",
    "- If the top 20% of income shows such a sharp increase, how do we know that there isn't a similar uptick *within* the 1%? We've already seen that the meaan of the dataset as a whole is much less than the half the maximum category (it's 25% of the maximum). What if that's true within the 1%, and £2,000/week as a fraction of the 0.1%, or the 0.01%?\n",
    "\n",
    "- How does this break down for gender, or educational background, or other factors like ethnicity or country of origin?\n",
    "\n",
    "- Which parts of the income curve show greater gaps between these subgroups and what might it say about the underlying causal mechanisms?\n"
   ]
  },
  {
   "cell_type": "code",
   "execution_count": null,
   "metadata": {
    "collapsed": true
   },
   "outputs": [],
   "source": [
    "clean.plot()\n",
    "plt.title('A Modest Proposal: The fiscal benefits of childbirth')\n",
    "plt.xlabel('Percentile')\n",
    "plt.ylabel('Income Per Week [GBP]')"
   ]
  },
  {
   "cell_type": "markdown",
   "metadata": {},
   "source": [
    "## Exercise: \n",
    "\n",
    "Previously, we'd examined income gaps between single people and couples (how very romantic). Repeat the above exercise (cleaning and plotting income data) for the columns we used above for single people and childless couples. Reflect and comment on the differences."
   ]
  },
  {
   "cell_type": "code",
   "execution_count": null,
   "metadata": {
    "collapsed": true
   },
   "outputs": [],
   "source": [
    "print(\"Enter your code here\")"
   ]
  },
  {
   "cell_type": "code",
   "execution_count": null,
   "metadata": {
    "collapsed": true
   },
   "outputs": [],
   "source": [
    "Add your reflection here."
   ]
  },
  {
   "cell_type": "markdown",
   "metadata": {},
   "source": [
    "## Homework: Selecting data\n",
    "\n",
    "So far, we've dealt with selecting data in a particular row of column by index or label. What if we now want to filter the data by *value*? For example, let's say I want to see the data for all Childless couples who earn more than 50,000 (net equivalised) pounds every year. This looks like:"
   ]
  },
  {
   "cell_type": "code",
   "execution_count": null,
   "metadata": {
    "collapsed": true
   },
   "outputs": [],
   "source": [
    "clean = income[['Childless couple, annual income','Couple, two children under 14']]\n",
    "clean = clean.replace(',', '', regex=True)\n",
    "clean = clean.replace('-', 'NaN', regex=True).astype('float')\n",
    "clean[clean['Childless couple, annual income']>50000]"
   ]
  },
  {
   "cell_type": "markdown",
   "metadata": {},
   "source": [
    "The key line of code for selection is: \n",
    "\n",
    "```python\n",
    "clean[clean['Childless couple, annual income']>50000]\n",
    "```\n",
    "\n",
    "Let's break this down: we're used to using *dataframe*[*some selection*] from earlier. Here \"some selection\" is \n",
    "\n",
    "\n",
    "```python\n",
    "clean['Childless couple, annual income']>50000\n",
    "```\n",
    "\n",
    "In other words, this command is returning a set of indices where that statement is true. We can see this explicitly:"
   ]
  },
  {
   "cell_type": "code",
   "execution_count": null,
   "metadata": {
    "collapsed": true
   },
   "outputs": [],
   "source": [
    "clean['Childless couple, annual income']>50000"
   ]
  },
  {
   "cell_type": "markdown",
   "metadata": {},
   "source": [
    "So python is picking the values where this statement is true - i.e. where the 'Childless couple...' column has values greater than 50000. Then this selection is passed to the dataframe, and the dataframe shows the correct rows."
   ]
  },
  {
   "cell_type": "markdown",
   "metadata": {},
   "source": [
    "We won't dwell on comparative operative, here we've used \">\" to mean \"is greater than\"; you can also use:\n",
    "\n",
    "- == to mean 'is equal to' [why the double equals?]\n",
    "- <> or != to mean 'is not equal to'\n",
    "- < to mean 'is less than'\n",
    "- the symbol >= to mean 'is greater than or equal to'\n",
    "- <= to mean 'is less than or equal to'\n"
   ]
  },
  {
   "cell_type": "markdown",
   "metadata": {},
   "source": [
    "## Exercise\n",
    "On an approporiately labelled graph, plot the incomes of all single adults whose net equivalised income is less than or equal to £10,000. What proportion of the population is this?"
   ]
  },
  {
   "cell_type": "code",
   "execution_count": null,
   "metadata": {
    "collapsed": true
   },
   "outputs": [],
   "source": []
  }
 ],
 "metadata": {
  "kernelspec": {
   "display_name": "Python 3",
   "language": "python",
   "name": "python3"
  },
  "language_info": {
   "codemirror_mode": {
    "name": "ipython",
    "version": 3
   },
   "file_extension": ".py",
   "mimetype": "text/x-python",
   "name": "python",
   "nbconvert_exporter": "python",
   "pygments_lexer": "ipython3",
   "version": "3.7.3"
  }
 },
 "nbformat": 4,
 "nbformat_minor": 1
}
