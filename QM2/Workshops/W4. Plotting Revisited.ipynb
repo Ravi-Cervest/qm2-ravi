{
 "cells": [
  {
   "cell_type": "markdown",
   "metadata": {},
   "source": [
    "## Quantitative Methods 2:  Data Science and Visualisation\n",
    "## Workshop 4: Plotting revisited\n",
    "We've created some basic plots over the last couple of weeks, but it would be nice to control the quality, appearance, and information presented in our plots. We can do that by using optional arguments and styles, but also by using new libraries that open up new visualisation techniques and ways of sharing our outputs\n",
    "\n",
    "### Aims:\n",
    "\n",
    "- Experiment with new forms and tools\n",
    "- Understand how to change the appearance of standard plots\n",
    "- Work with different libraries\n",
    "- Create web-enabled graphs\n",
    "- Improve the quality of our plots"
   ]
  },
  {
   "cell_type": "markdown",
   "metadata": {},
   "source": [
    "## Downloading the Data\n",
    "Let's grab the data we will need this week from our course website and save it into our data folder. If you've not already created a data folder then do so using the following command. \n",
    "\n",
    "Don't worry if it generates an error, that means you've already got a data folder."
   ]
  },
  {
   "cell_type": "code",
   "execution_count": null,
   "metadata": {
    "collapsed": true
   },
   "outputs": [],
   "source": [
    "!mkdir data"
   ]
  },
  {
   "cell_type": "code",
   "execution_count": null,
   "metadata": {
    "collapsed": true
   },
   "outputs": [],
   "source": [
    "!mkdir data/wk4\n",
    "!curl https://s3.eu-west-2.amazonaws.com/qm2/wk4/UN_Life_2012.csv -o ./data/wk4/UN_Life_2012.csv\n",
    "!curl https://s3.eu-west-2.amazonaws.com/qm2/wk4/UN_Life_all.csv -o ./data/wk4/UN_Life_all.csv\n",
    "!curl https://s3.eu-west-2.amazonaws.com/qm2/wk4/UN_Cities_all.csv -o ./data/wk4/UN_Cities_all.csv\n",
    "!curl https://s3.eu-west-2.amazonaws.com/qm2/wk4/tips.csv -o ./data/wk4/tips.csv"
   ]
  },
  {
   "cell_type": "markdown",
   "metadata": {},
   "source": [
    "`------------------`     "
   ]
  },
  {
   "cell_type": "code",
   "execution_count": 5,
   "metadata": {
    "collapsed": true
   },
   "outputs": [],
   "source": [
    "import matplotlib.pyplot as plt\n",
    "import pandas as pd\n",
    "import pylab\n",
    "%matplotlib inline\n",
    "pylab.rcParams['figure.figsize'] = (10., 8.)"
   ]
  },
  {
   "cell_type": "markdown",
   "metadata": {},
   "source": [
    "## Life on Bars\n",
    "\n",
    "We're going to work with some data we looked at last week, on life expectancy, compiled by the UN. Here is the source:\n",
    "\n",
    "http://data.un.org/Data.aspx?d=WDI&f=Indicator_Code%3ASP.DYN.LE00.IN\n",
    "\n",
    "I've filtered and cleaned it, and focussed on just 2012 data:"
   ]
  },
  {
   "cell_type": "code",
   "execution_count": 6,
   "metadata": {},
   "outputs": [
    {
     "data": {
      "text/html": [
       "<div>\n",
       "<table border=\"1\" class=\"dataframe\">\n",
       "  <thead>\n",
       "    <tr style=\"text-align: right;\">\n",
       "      <th></th>\n",
       "      <th>Country or Area</th>\n",
       "      <th>Year</th>\n",
       "      <th>Value</th>\n",
       "      <th>Value Footnotes</th>\n",
       "    </tr>\n",
       "  </thead>\n",
       "  <tbody>\n",
       "    <tr>\n",
       "      <th>0</th>\n",
       "      <td>Afghanistan</td>\n",
       "      <td>2012</td>\n",
       "      <td>60.509122</td>\n",
       "      <td>NaN</td>\n",
       "    </tr>\n",
       "    <tr>\n",
       "      <th>1</th>\n",
       "      <td>Albania</td>\n",
       "      <td>2012</td>\n",
       "      <td>77.350463</td>\n",
       "      <td>NaN</td>\n",
       "    </tr>\n",
       "    <tr>\n",
       "      <th>2</th>\n",
       "      <td>Algeria</td>\n",
       "      <td>2012</td>\n",
       "      <td>70.882171</td>\n",
       "      <td>NaN</td>\n",
       "    </tr>\n",
       "    <tr>\n",
       "      <th>3</th>\n",
       "      <td>Angola</td>\n",
       "      <td>2012</td>\n",
       "      <td>51.464000</td>\n",
       "      <td>NaN</td>\n",
       "    </tr>\n",
       "    <tr>\n",
       "      <th>4</th>\n",
       "      <td>Antigua and Barbuda</td>\n",
       "      <td>2012</td>\n",
       "      <td>75.665317</td>\n",
       "      <td>NaN</td>\n",
       "    </tr>\n",
       "  </tbody>\n",
       "</table>\n",
       "</div>"
      ],
      "text/plain": [
       "       Country or Area  Year      Value  Value Footnotes\n",
       "0          Afghanistan  2012  60.509122              NaN\n",
       "1              Albania  2012  77.350463              NaN\n",
       "2              Algeria  2012  70.882171              NaN\n",
       "3               Angola  2012  51.464000              NaN\n",
       "4  Antigua and Barbuda  2012  75.665317              NaN"
      ]
     },
     "execution_count": 6,
     "metadata": {},
     "output_type": "execute_result"
    }
   ],
   "source": [
    "data_path = \"./data/wk4/UN_Life_2012.csv\"\n",
    "data = pd.read_csv(data_path)\n",
    "data.head()"
   ]
  },
  {
   "cell_type": "markdown",
   "metadata": {},
   "source": [
    "## Exercise\n",
    "\n",
    "Clean this data by removing the Year and Value Footnotes columns, and plot it on a labelled histogram. Then save this as an image file using \"plt.savefig(*filename*)\"."
   ]
  },
  {
   "cell_type": "markdown",
   "metadata": {},
   "source": [
    "Let's try to improve the look of this. First of all, with\n",
    "\n",
    "## ggplot\n",
    "\n",
    "`ggplot` is a library originally developed for the **R** programming language, and subsequently ported into Python. It has a slightly nicer default look. It's fairly simple to invoke:"
   ]
  },
  {
   "cell_type": "code",
   "execution_count": 7,
   "metadata": {},
   "outputs": [],
   "source": [
    "plt.style.use('ggplot')"
   ]
  },
  {
   "cell_type": "code",
   "execution_count": 8,
   "metadata": {},
   "outputs": [
    {
     "data": {
      "text/plain": [
       "<matplotlib.text.Text at 0x7f7343053910>"
      ]
     },
     "execution_count": 8,
     "metadata": {},
     "output_type": "execute_result"
    },
    {
     "data": {
      "image/png": "[encoded data removed]",
      "text/plain": [
       "<matplotlib.figure.Figure at 0x7f7347d170d0>"
      ]
     },
     "metadata": {},
     "output_type": "display_data"
    }
   ],
   "source": [
    "summary = data.hist(bins = 20)\n",
    "plt.xlabel('Life Expectancy [Years]')\n",
    "plt.ylabel('Frequency [Countries]')\n",
    "plt.title('World Life Expectancy Distribution in 2012')"
   ]
  },
  {
   "cell_type": "markdown",
   "metadata": {},
   "source": [
    "Let's now start to work with data that runs over a number of years"
   ]
  },
  {
   "cell_type": "code",
   "execution_count": 9,
   "metadata": {},
   "outputs": [
    {
     "data": {
      "text/html": [
       "<div>\n",
       "<table border=\"1\" class=\"dataframe\">\n",
       "  <thead>\n",
       "    <tr style=\"text-align: right;\">\n",
       "      <th></th>\n",
       "      <th>Country or Area</th>\n",
       "      <th>Year</th>\n",
       "      <th>Value</th>\n",
       "      <th>Value Footnotes</th>\n",
       "    </tr>\n",
       "  </thead>\n",
       "  <tbody>\n",
       "    <tr>\n",
       "      <th>0</th>\n",
       "      <td>Afghanistan</td>\n",
       "      <td>2012</td>\n",
       "      <td>60.509122</td>\n",
       "      <td>NaN</td>\n",
       "    </tr>\n",
       "    <tr>\n",
       "      <th>1</th>\n",
       "      <td>Afghanistan</td>\n",
       "      <td>2011</td>\n",
       "      <td>60.065366</td>\n",
       "      <td>NaN</td>\n",
       "    </tr>\n",
       "    <tr>\n",
       "      <th>2</th>\n",
       "      <td>Afghanistan</td>\n",
       "      <td>2010</td>\n",
       "      <td>59.600098</td>\n",
       "      <td>NaN</td>\n",
       "    </tr>\n",
       "    <tr>\n",
       "      <th>3</th>\n",
       "      <td>Afghanistan</td>\n",
       "      <td>2009</td>\n",
       "      <td>59.112341</td>\n",
       "      <td>NaN</td>\n",
       "    </tr>\n",
       "    <tr>\n",
       "      <th>4</th>\n",
       "      <td>Afghanistan</td>\n",
       "      <td>2008</td>\n",
       "      <td>58.607098</td>\n",
       "      <td>NaN</td>\n",
       "    </tr>\n",
       "  </tbody>\n",
       "</table>\n",
       "</div>"
      ],
      "text/plain": [
       "  Country or Area  Year      Value  Value Footnotes\n",
       "0     Afghanistan  2012  60.509122              NaN\n",
       "1     Afghanistan  2011  60.065366              NaN\n",
       "2     Afghanistan  2010  59.600098              NaN\n",
       "3     Afghanistan  2009  59.112341              NaN\n",
       "4     Afghanistan  2008  58.607098              NaN"
      ]
     },
     "execution_count": 9,
     "metadata": {},
     "output_type": "execute_result"
    }
   ],
   "source": [
    "data_path = \"./data/wk4/UN_Life_all.csv\"\n",
    "life = pd.read_csv(data_path)\n",
    "life.head()"
   ]
  },
  {
   "cell_type": "markdown",
   "metadata": {},
   "source": [
    "Note that we deliberately *don't* use one of the columns as the index, because there are multiple years of data for multiple countries. Let's carry out a *sort* operation on the data - to put in order of country, then year:"
   ]
  },
  {
   "cell_type": "code",
   "execution_count": 10,
   "metadata": {},
   "outputs": [
    {
     "data": {
      "text/html": [
       "<div>\n",
       "<table border=\"1\" class=\"dataframe\">\n",
       "  <thead>\n",
       "    <tr style=\"text-align: right;\">\n",
       "      <th></th>\n",
       "      <th>Country or Area</th>\n",
       "      <th>Year</th>\n",
       "      <th>Value</th>\n",
       "      <th>Value Footnotes</th>\n",
       "    </tr>\n",
       "  </thead>\n",
       "  <tbody>\n",
       "    <tr>\n",
       "      <th>52</th>\n",
       "      <td>Afghanistan</td>\n",
       "      <td>1960</td>\n",
       "      <td>31.580049</td>\n",
       "      <td>NaN</td>\n",
       "    </tr>\n",
       "    <tr>\n",
       "      <th>51</th>\n",
       "      <td>Afghanistan</td>\n",
       "      <td>1961</td>\n",
       "      <td>32.095976</td>\n",
       "      <td>NaN</td>\n",
       "    </tr>\n",
       "    <tr>\n",
       "      <th>50</th>\n",
       "      <td>Afghanistan</td>\n",
       "      <td>1962</td>\n",
       "      <td>32.611878</td>\n",
       "      <td>NaN</td>\n",
       "    </tr>\n",
       "    <tr>\n",
       "      <th>49</th>\n",
       "      <td>Afghanistan</td>\n",
       "      <td>1963</td>\n",
       "      <td>33.127317</td>\n",
       "      <td>NaN</td>\n",
       "    </tr>\n",
       "    <tr>\n",
       "      <th>48</th>\n",
       "      <td>Afghanistan</td>\n",
       "      <td>1964</td>\n",
       "      <td>33.641244</td>\n",
       "      <td>NaN</td>\n",
       "    </tr>\n",
       "  </tbody>\n",
       "</table>\n",
       "</div>"
      ],
      "text/plain": [
       "   Country or Area  Year      Value  Value Footnotes\n",
       "52     Afghanistan  1960  31.580049              NaN\n",
       "51     Afghanistan  1961  32.095976              NaN\n",
       "50     Afghanistan  1962  32.611878              NaN\n",
       "49     Afghanistan  1963  33.127317              NaN\n",
       "48     Afghanistan  1964  33.641244              NaN"
      ]
     },
     "execution_count": 10,
     "metadata": {},
     "output_type": "execute_result"
    }
   ],
   "source": [
    "life.sort_values(by=['Country or Area','Year'], inplace=True)\n",
    "life.head()"
   ]
  },
  {
   "cell_type": "markdown",
   "metadata": {},
   "source": [
    "## Selecting specific rows and columns\n",
    "\n",
    "Let's plot this data out..."
   ]
  },
  {
   "cell_type": "code",
   "execution_count": 11,
   "metadata": {},
   "outputs": [
    {
     "data": {
      "text/plain": [
       "<matplotlib.axes._subplots.AxesSubplot at 0x7f7347d82810>"
      ]
     },
     "execution_count": 11,
     "metadata": {},
     "output_type": "execute_result"
    },
    {
     "data": {
      "image/png": "[encoded data removed]",
      "text/plain": [
       "<matplotlib.figure.Figure at 0x7f7342e23b10>"
      ]
     },
     "metadata": {},
     "output_type": "display_data"
    }
   ],
   "source": [
    "life.plot()"
   ]
  },
  {
   "cell_type": "markdown",
   "metadata": {},
   "source": [
    "This is not super-useful - \"year\" is much higher than other values (no-one lives to 2,000 years old) and it's being plotted on the same axes, obliterating the variations you would otherwise see. To create a scatter graph, we have to specify our x and y columns and tell the graph to create a scatterplot:"
   ]
  },
  {
   "cell_type": "code",
   "execution_count": null,
   "metadata": {
    "collapsed": true
   },
   "outputs": [],
   "source": [
    "life.plot(x='Year', y='Value',  kind='scatter')"
   ]
  },
  {
   "cell_type": "markdown",
   "metadata": {},
   "source": [
    "This is a bit of a mess - the way the data is structured means that it's hard to colour each trace. It's not impossible, but in any case - that's a lot of data. Let's instead focus on the story of one or two countries.\n",
    "\n",
    "Let's use a selection which just picks out data for Afghanistan:"
   ]
  },
  {
   "cell_type": "code",
   "execution_count": null,
   "metadata": {
    "collapsed": true
   },
   "outputs": [],
   "source": [
    "afghan = life.loc[life['Country or Area']=='Afghanistan']\n",
    "afghan.plot(x='Year', y= 'Value', kind='scatter')"
   ]
  },
  {
   "cell_type": "markdown",
   "metadata": {},
   "source": [
    "This shows a somewhat linear increase over the last 50 years, with a couple of kinks. But how does this compare with its neighbours?"
   ]
  },
  {
   "cell_type": "markdown",
   "metadata": {},
   "source": [
    "## Plotting multiple countries\n",
    "Let's look at plotting multiple graphs on the same axis. First we create an axis object, and plot the data from Afghanistan on it:"
   ]
  },
  {
   "cell_type": "code",
   "execution_count": null,
   "metadata": {
    "collapsed": true
   },
   "outputs": [],
   "source": [
    "ax = life.loc[life['Country or Area']=='Afghanistan'].plot(x='Year', y= 'Value', kind='scatter', c = 'red', label = 'Afghanistan')\n",
    "ax.legend(loc='lower right')"
   ]
  },
  {
   "cell_type": "markdown",
   "metadata": {},
   "source": [
    "Now, by passing \"ax\" as an optional argument, we can also draw data for Pakistan *on the same axes*:"
   ]
  },
  {
   "cell_type": "code",
   "execution_count": null,
   "metadata": {
    "collapsed": true
   },
   "outputs": [],
   "source": [
    "ax = life.loc[life['Country or Area']=='Afghanistan'].plot(x='Year', y= 'Value', kind='scatter', c = 'red', label = 'Afghanistan')\n",
    "life.loc[life['Country or Area']=='Pakistan'].plot(x='Year', y= 'Value', kind='scatter', c = 'black', ax=ax, label = 'Pakistan')\n",
    "ax.legend(loc='lower right')"
   ]
  },
  {
   "cell_type": "markdown",
   "metadata": {},
   "source": [
    "From this we can see a large (>15 year) disparity between the two countries at the beginning of the reporting period, with a bit of a dip to the upward trend for Afghanistan in the 1980s, and again in the early 2000s, corresponding to the ooccupations by the USSR and the USA/UK respectively - the impact of these conflicts is apparent in the data. By the most recent data, the gap has narrowed to ~5 years. \n",
    "\n",
    "Let's look at two other countries."
   ]
  },
  {
   "cell_type": "markdown",
   "metadata": {},
   "source": [
    "## Exercise\n",
    "\n",
    "Create a scatter graph to contrast and comment on the change of the life expectancies for Iran and Iraq in the 1970-2010 period. \n",
    "\n",
    "*Hint: you may need to refer to the original data to see how these countries are labelled.*"
   ]
  },
  {
   "cell_type": "code",
   "execution_count": null,
   "metadata": {
    "collapsed": true
   },
   "outputs": [],
   "source": []
  },
  {
   "cell_type": "markdown",
   "metadata": {},
   "source": [
    "**Stretch goal:** Show this data on a line plot, and compare it to the life expectancy in a Nordic country over the same period, using colour to distinguish."
   ]
  },
  {
   "cell_type": "code",
   "execution_count": null,
   "metadata": {
    "collapsed": true
   },
   "outputs": [],
   "source": []
  },
  {
   "cell_type": "markdown",
   "metadata": {},
   "source": [
    "## Bokeh\n",
    "\n",
    "![](http://orig13.deviantart.net/4518/f/2009/311/5/8/5816cf598bb8b306dafe75a9c1ab59e1.jpg)\n",
    "\n",
    "Bokeh is a Python library which creates html charts for easy online sharing. Now, this might be a bit harder to work with in the context of a cms like Wordpress, but it's worth learning, as it also lets you export images from the interactives..."
   ]
  },
  {
   "cell_type": "markdown",
   "metadata": {},
   "source": [
    "Let's  import this library via our package manager:"
   ]
  },
  {
   "cell_type": "code",
   "execution_count": 20,
   "metadata": {},
   "outputs": [
    {
     "name": "stdout",
     "output_type": "stream",
     "text": [
      "Requirement already satisfied: bokeh in /home/nbcommon/anaconda2_410/lib/python2.7/site-packages\n",
      "Requirement already satisfied: six>=1.5.2 in /home/nbcommon/anaconda2_410/lib/python2.7/site-packages (from bokeh)\n",
      "Requirement already satisfied: PyYAML>=3.10 in /home/nbcommon/anaconda2_410/lib/python2.7/site-packages (from bokeh)\n",
      "Requirement already satisfied: python-dateutil>=2.1 in /home/nbcommon/anaconda2_410/lib/python2.7/site-packages (from bokeh)\n",
      "Requirement already satisfied: Jinja2>=2.7 in /home/nbcommon/anaconda2_410/lib/python2.7/site-packages (from bokeh)\n",
      "Requirement already satisfied: numpy>=1.7.1 in /home/nbcommon/anaconda2_410/lib/python2.7/site-packages (from bokeh)\n",
      "Requirement already satisfied: tornado>=4.3 in /home/nbcommon/anaconda2_410/lib/python2.7/site-packages (from bokeh)\n",
      "Requirement already satisfied: futures>=3.0.3 in /home/nbcommon/anaconda2_410/lib/python2.7/site-packages (from bokeh)\n",
      "Requirement already satisfied: MarkupSafe in /home/nbcommon/anaconda2_410/lib/python2.7/site-packages (from Jinja2>=2.7->bokeh)\n",
      "Collecting bkcharts\n",
      "  Downloading bkcharts-0.2.tar.gz (97kB)\n",
      "\u001b[K    100% |################################| 102kB 3.7MB/s a 0:00:011\n",
      "\u001b[?25hRequirement already satisfied: six>=1.5.2 in /home/nbcommon/anaconda2_410/lib/python2.7/site-packages (from bkcharts)\n",
      "Requirement already satisfied: numpy>=1.7.1 in /home/nbcommon/anaconda2_410/lib/python2.7/site-packages (from bkcharts)\n",
      "Building wheels for collected packages: bkcharts\n",
      "  Running setup.py bdist_wheel for bkcharts ... \u001b[?25ldone\n",
      "\u001b[?25h  Stored in directory: /home/nbuser/.cache/pip/wheels/fa/ec/4a/e3f3f7447d8a0604f4c4e9dbfc2a8853fb5e2cfce466241a09\n",
      "Successfully built bkcharts\n",
      "Installing collected packages: bkcharts\n",
      "Successfully installed bkcharts-0.2\n"
     ]
    }
   ],
   "source": [
    "!pip install bokeh\n",
    "!pip install bkcharts"
   ]
  },
  {
   "cell_type": "code",
   "execution_count": 31,
   "metadata": {},
   "outputs": [],
   "source": [
    "from bokeh.plotting import figure, output_file, show, output_notebook"
   ]
  },
  {
   "cell_type": "code",
   "execution_count": 32,
   "metadata": {},
   "outputs": [
    {
     "ename": "NameError",
     "evalue": "name 'Area' is not defined",
     "output_type": "error",
     "traceback": [
      "\u001b[0;31m\u001b[0m",
      "\u001b[0;31mNameError\u001b[0mTraceback (most recent call last)",
      "\u001b[0;32m<ipython-input-32-0068f7ce6643>\u001b[0m in \u001b[0;36m<module>\u001b[0;34m()\u001b[0m\n\u001b[1;32m      6\u001b[0m )\n\u001b[1;32m      7\u001b[0m \u001b[0;34m\u001b[0m\u001b[0m\n\u001b[0;32m----> 8\u001b[0;31m area = Area(data, title=\"Area Chart\", legend=\"top_left\",\n\u001b[0m\u001b[1;32m      9\u001b[0m             xlabel='time', ylabel='memory')\n\u001b[1;32m     10\u001b[0m \u001b[0;34m\u001b[0m\u001b[0m\n",
      "\u001b[0;31mNameError\u001b[0m: name 'Area' is not defined"
     ]
    }
   ],
   "source": []
  },
  {
   "cell_type": "markdown",
   "metadata": {},
   "source": [
    "Let's plot all the data..."
   ]
  },
  {
   "cell_type": "code",
   "execution_count": 29,
   "metadata": {},
   "outputs": [],
   "source": [
    "data_path = \"./data/wk4/Life_Expectancy_1.html\"\n",
    "output_file(data_path, title=\"Number of references per million words by year\")\n",
    "#output_notebook()\n",
    "p = figure(title= \"Life expectancy\", x_axis_label='Year', y_axis_label='Life expectancy [Years]')\n",
    "p.scatter(x=life['Year'], y = life['Value'])\n",
    "show(p)"
   ]
  },
  {
   "cell_type": "markdown",
   "metadata": {},
   "source": [
    "Go have a look in your Data Folder.  You'll now have a file called Life_Expectancy_1.html in there.\n",
    "\n",
    "Bit of a mess. Let's instead look at two countries - Vietnam, and France, its previous historical colonial occupier."
   ]
  },
  {
   "cell_type": "code",
   "execution_count": 30,
   "metadata": {
    "collapsed": true
   },
   "outputs": [],
   "source": [
    "data_path = \"./data/wk4/Life_Expectancy_2.html\"\n",
    "\n",
    "output_file(data_path, title=\"Life Expectancy\")\n",
    "#output_notebook()\n",
    "p = figure(title= \"Life expectancy\", x_axis_label='Year', y_axis_label='Life expectancy [Years]')\n",
    "p.line(x=life[life['Country or Area']=='France']['Year'], y = life[life['Country or Area']=='France']['Value'], legend='France')\n",
    "p.line(x=life[life['Country or Area']=='Vietnam']['Year'], y = life[life['Country or Area']=='Vietnam']['Value'], legend = 'Vietnam')\n",
    "show(p)"
   ]
  },
  {
   "cell_type": "markdown",
   "metadata": {},
   "source": [
    "Go have a look in your Data Folder again.  You'll now have a file called Life_Expectancy_2.html in there."
   ]
  },
  {
   "cell_type": "markdown",
   "metadata": {},
   "source": [
    "## Exercise:\n",
    "Using the resulting html page, create a .png file which covers the period 1960-1985.\n",
    "\n",
    "**Stretch goals:**\n",
    "\n",
    "- Modify the p.legend.location variable so the legend shows in the top left of the graph.\n",
    "- Set line_color (an optional argument) to black for France and blue for Vietnam\n"
   ]
  },
  {
   "cell_type": "markdown",
   "metadata": {},
   "source": [
    "## Seaborn\n",
    "\n",
    "![](https://media.giphy.com/media/yoJC2A59OCZHs1LXvW/giphy.gif)\n",
    "\n",
    "Seaborn is a library used for creating a range of visualisations that are difficult to create in other ways, including cluster maps, kdes, violin plots, and scatter matrices.\n",
    "\n"
   ]
  },
  {
   "cell_type": "code",
   "execution_count": null,
   "metadata": {
    "collapsed": true
   },
   "outputs": [],
   "source": [
    "import seaborn"
   ]
  },
  {
   "cell_type": "markdown",
   "metadata": {},
   "source": [
    "First off, importing this will change the default look of graphs:"
   ]
  },
  {
   "cell_type": "code",
   "execution_count": null,
   "metadata": {
    "collapsed": true
   },
   "outputs": [],
   "source": [
    "life['Value'].hist()"
   ]
  },
  {
   "cell_type": "markdown",
   "metadata": {},
   "source": [
    "But let's work with some functions specific to Seaborn. For example, we can do a boxplot for the whole dataset (not very exciting, but bear with me):"
   ]
  },
  {
   "cell_type": "code",
   "execution_count": null,
   "metadata": {
    "collapsed": true
   },
   "outputs": [],
   "source": [
    "seaborn.boxplot(data=life['Value'])"
   ]
  },
  {
   "cell_type": "markdown",
   "metadata": {},
   "source": [
    "And we can create a violin plot of the data - which is effectively a (smoothed) histogram of the data. Compare it to the above histogram."
   ]
  },
  {
   "cell_type": "code",
   "execution_count": null,
   "metadata": {
    "collapsed": true
   },
   "outputs": [],
   "source": [
    "seaborn.violinplot(data=life['Value'], inner='quartile')"
   ]
  },
  {
   "cell_type": "markdown",
   "metadata": {},
   "source": [
    "More generally, we can not only show a distribution, we can also show multiple distributions (e.g. at different timepoints) and shade and split the distribution by a binary variable (e.g. sex). Here is a built-in example from the seaborn library which shows a much more sophisticated violin plot."
   ]
  },
  {
   "cell_type": "code",
   "execution_count": null,
   "metadata": {
    "collapsed": true
   },
   "outputs": [],
   "source": [
    "#tips = seaborn.load_dataset(\"tips\")\n",
    "tips = pd.read_csv('./data/wk4/tips.csv', error_bad_lines=False)\n"
   ]
  },
  {
   "cell_type": "code",
   "execution_count": null,
   "metadata": {
    "collapsed": true
   },
   "outputs": [],
   "source": [
    "seaborn.set(style=\"whitegrid\", palette=\"pastel\", color_codes=True)\n",
    "seaborn.set_color_codes(\"dark\")\n",
    "\n",
    "# Load the example tips dataset\n",
    "\n",
    "# Draw a nested violinplot and split the violins for easier comparison\n",
    "seaborn.violinplot(x=\"day\", y=\"tip\", hue=\"sex\", data=tips, split=True,\n",
    "               inner=\"quart\", palette={\"Male\": \"b\", \"Female\": \"y\"})\n",
    "seaborn.despine(left=True)"
   ]
  },
  {
   "cell_type": "markdown",
   "metadata": {},
   "source": [
    "This example is a bit unusual because it's not a histogram - the \"y\" axis is the tip for a given day (\"x\"). Then the data is split by gender. In this graph, we are showing a very rich dataset - the distribution of tips,  gender and time. Thus we're showing a complex dataset in an accessible way. **What does this graph tell us?**"
   ]
  },
  {
   "cell_type": "markdown",
   "metadata": {},
   "source": [
    "## I hear the sound of violins\n",
    "Let's now apply this visualisation technique to our life expectancy data. I'm interested in the distribution of life expectancy year on year - not the life expectancies, now, of individual countries, but each year, what is the histogram of life expectancies across the world. Rather than using *every* reporting year, I'm going to look at every ten years.\n",
    "\n",
    "**Extension: Modulo arithmatic**\n",
    "The modulo (%) symbol divides two integers and finds the remainder. You may remember from primary school (though possibly not) that in dividing integers, we had an \"answer\" and a \"remainder\" rather than a pure decimal. So\n",
    "\n",
    "- 1/2 = 0 r 1\n",
    "- 11/7 = 1 r 4\n",
    " - 23/10 = 2 r 3\n",
    "\n",
    "modulo arithmatic just takes the remainder, so\n",
    "\n",
    "- 1%2 = 1\n",
    "- 11%7 = 4\n",
    "- 23%10 = 3 \n",
    "\n",
    "and so on. I've used that below to pick out specific dates, only allowing years where year%10==0; so this will give me 1960, 1970, 1980, 1990, 2000 and 2010. **How would I have phrased this if I'd wanted 1962, 1972, etc? What if I'd wanted 1960, 1965, 1970, 1975, etc?**\n"
   ]
  },
  {
   "cell_type": "code",
   "execution_count": null,
   "metadata": {
    "collapsed": true
   },
   "outputs": [],
   "source": [
    "seaborn.violinplot(data=life[life['Year']%10==0], x='Year', y= 'Value')\n",
    "plt.ylabel('Life Expectancy [Years]')"
   ]
  },
  {
   "cell_type": "markdown",
   "metadata": {},
   "source": [
    "## Question\n",
    "What does this visualisation tell us about changes in the world over half a century?"
   ]
  },
  {
   "cell_type": "code",
   "execution_count": null,
   "metadata": {
    "collapsed": true
   },
   "outputs": [],
   "source": []
  },
  {
   "cell_type": "markdown",
   "metadata": {},
   "source": [
    "## Split and run\n",
    "I want to run the data with a split violinplot (as the tipping example above has created). What I will do is to show the same data, but instead of having several timeperiods, I will compare two years (1960 and 2010) on one split plot. This means that the year is no longer the x axis (it's the split variable), so I will make up a dummy variable in order to plot the data. (This isn't something we'd normally do, it's just to get this simple example working)"
   ]
  },
  {
   "cell_type": "code",
   "execution_count": null,
   "metadata": {
    "collapsed": true
   },
   "outputs": [],
   "source": [
    "life['Dummy'] = [1]*len(life.index)\n",
    "life.head()"
   ]
  },
  {
   "cell_type": "markdown",
   "metadata": {},
   "source": [
    "The code we produce to create the violinplot is more complex than our last example. Take a look at it and the output:"
   ]
  },
  {
   "cell_type": "code",
   "execution_count": null,
   "metadata": {
    "collapsed": true
   },
   "outputs": [],
   "source": [
    "seaborn.violinplot(data=life[life['Year']%50==10], x = 'Dummy', y= 'Value', hue = 'Year', split=True, inner='quartile')\n",
    "plt.ylabel('Life Expectancy [Years]')\n",
    "plt.xlabel('Frequency Distribution')"
   ]
  },
  {
   "cell_type": "markdown",
   "metadata": {},
   "source": [
    "## Extension: How did I produce this plot?\n",
    "Consider:\n",
    "- What is the data source?\n",
    "- Why does 'Year' need to be a binary variable, and how have I achieved that?\n",
    "- Where have a specified the variable that the split occurs on? Make a copy of the cell and see what happens when you remove this condition\n",
    "- What does the Split=True argument mean? What happens if you remove it?\n",
    "- What does the inner=quartile argument mean? What happens if you remove or change it? What alternatives are there, and what do they look like?"
   ]
  },
  {
   "cell_type": "markdown",
   "metadata": {},
   "source": [
    "## Exercise\n",
    "\n",
    "Using the UN cities data (from the same source as last week) create violin plots for  2010-2014 inclusive, showing the distribution of city populations by year, split by sex. Think carefully about each step required to reach the final goal. What problems are there with showing the data in this way?"
   ]
  },
  {
   "cell_type": "code",
   "execution_count": null,
   "metadata": {
    "collapsed": true
   },
   "outputs": [],
   "source": [
    "data_path = \"https://s3.eu-west-2.amazonaws.com/qm2/wk4/cities_violin.png\"\n",
    "\n",
    "from IPython.display import Image\n",
    "Image(data_path)"
   ]
  },
  {
   "cell_type": "markdown",
   "metadata": {},
   "source": [
    "## Extension\n",
    "How are these graphing techniques useful and relevant to your datasets and group projects?"
   ]
  },
  {
   "cell_type": "code",
   "execution_count": null,
   "metadata": {
    "collapsed": true
   },
   "outputs": [],
   "source": []
  }
 ],
 "metadata": {
  "kernelspec": {
   "display_name": "Python 2",
   "language": "python",
   "name": "python2"
  },
  "language_info": {
   "codemirror_mode": {
    "name": "ipython",
    "version": 2
   },
   "file_extension": ".py",
   "mimetype": "text/x-python",
   "name": "python",
   "nbconvert_exporter": "python",
   "pygments_lexer": "ipython2",
   "version": "2.7.14"
  }
 },
 "nbformat": 4,
 "nbformat_minor": 1
}
